{
 "cells": [
  {
   "cell_type": "markdown",
   "metadata": {},
   "source": [
    "### Read Credentials From File"
   ]
  },
  {
   "cell_type": "code",
   "execution_count": 1,
   "metadata": {},
   "outputs": [],
   "source": [
    "import configparser\n",
    "configs = configparser.ConfigParser()\n",
    "configs.read(\"cred.ini\")\n",
    "access_key = configs.get(\"Info\", \"ACCESS_KEY\")\n",
    "secret_key = configs.get(\"Info\", \"SECRET_KEY\")\n",
    "bucket_name = configs.get(\"Info\",\"BUCKET\")\n",
    "host_region = configs.get(\"Info\",\"HOST_REGION\")\n"
   ]
  },
  {
   "cell_type": "markdown",
   "metadata": {},
   "source": [
    "### Initial Connection to S3"
   ]
  },
  {
   "cell_type": "code",
   "execution_count": 2,
   "metadata": {},
   "outputs": [],
   "source": [
    "# from boto.s3.connection import S3Connection\n",
    "from botocore.config import Config\n",
    "import boto3\n",
    "\n",
    "# conn = S3Connection(access_key, secret_key,host=host_region,proxy='127.0.0.1'.encode(),proxy_port='3128')\n",
    "conn = boto3.client('s3',aws_access_key_id=access_key,\n",
    "                    aws_secret_access_key=secret_key,\n",
    "                    region_name='us-east-2'\n",
    "                    #,config=Config(proxies={'https': 'localhost:3128'})\n",
    "                    )\n"
   ]
  },
  {
   "cell_type": "markdown",
   "metadata": {},
   "source": [
    "### Get List of Files from bucket (limited right now to the page of 1000)"
   ]
  },
  {
   "cell_type": "code",
   "execution_count": 3,
   "metadata": {
    "collapsed": false
   },
   "outputs": [
    {
     "data": {
      "text/plain": [
       "1000"
      ]
     },
     "execution_count": 3,
     "metadata": {},
     "output_type": "execute_result"
    }
   ],
   "source": [
    "file_list = list(conn.list_objects(Bucket=bucket_name)['Contents'])\n",
    "len(file_list)"
   ]
  },
  {
   "cell_type": "markdown",
   "metadata": {},
   "source": [
    "### Execute Algorithm on 1 file"
   ]
  },
  {
   "cell_type": "code",
   "execution_count": 4,
   "metadata": {},
   "outputs": [
    {
     "name": "stdout",
     "output_type": "stream",
     "text": [
      "Time elasped:  27.776870250701904\nEstimated Time:  2777687.0250701904\nTotal strings found: 17065716\n"
     ]
    }
   ],
   "source": [
    "from StringCounter import *\n",
    "import time\n",
    "t1 = time.time()\n",
    "obj = conn.get_object(Bucket=bucket_name, Key=file_list[0]['Key'])\n",
    "content = extractFileContent(obj)\n",
    "cnts = countContent(content,8,30)\n",
    "t2 = time.time()\n",
    "delta = t2-t1\n",
    "print(\"Time elasped: \", delta)\n",
    "print(\"Estimated Time: \", delta*100000)\n",
    "print(\"Total strings found:\", len(cnts))"
   ]
  },
  {
   "cell_type": "code",
   "execution_count": 5,
   "metadata": {},
   "outputs": [],
   "source": [
    "import operator\n",
    "cnts2 = {k: v for k, v in cnts.items() if v > 1}\n",
    "cnts_sort = sorted(cnts2.items(), key=operator.itemgetter(1),reverse=True)\n",
    "final = cnts_sort[:10000]"
   ]
  },
  {
   "cell_type": "code",
   "execution_count": 7,
   "metadata": {},
   "outputs": [
    {
     "data": {
      "text/plain": [
       "[('////////', 408),\n ('/////////', 402),\n ('//////////', 396),\n ('///////////', 390),\n ('////////////', 384),\n ('/////////////', 378),\n ('//////////////', 372),\n ('///////////////', 366),\n ('////////////////', 360),\n ('/////////////////', 354),\n ('//////////////////', 348),\n ('///////////////////', 342),\n ('////////////////////', 336),\n ('/////////////////////', 330),\n ('//////////////////////', 324),\n ('///////////////////////', 318),\n ('////////////////////////', 312),\n ('/////////////////////////', 306),\n ('//////////////////////////', 300),\n ('///////////////////////////', 294),\n ('////////////////////////////', 288),\n ('/////////////////////////////', 282),\n ('22222222', 172),\n ('ThemePan', 171),\n ('ThemePane', 171),\n ('ThemePanel', 171),\n ('hemePane', 171),\n ('hemePanel', 171),\n ('emePanel', 171),\n ('222222222', 168),\n ('2222222222', 164),\n ('22222222222', 160),\n ('222222222222', 156),\n ('2222222222222', 152),\n ('22222222222222', 148),\n ('ThemePanelM', 145),\n ('hemePanelM', 145),\n ('emePanelM', 145),\n ('mePanelM', 145),\n ('222222222222222', 144),\n ('.ThemePa', 143),\n ('.ThemePan', 143),\n ('.ThemePane', 143),\n ('.ThemePanel', 143),\n ('2222222222222222', 140),\n ('.ThemePanelM', 138),\n ('22222222222222222', 136),\n ('222222222222222222', 132),\n ('2222222222222222222', 128),\n ('22222222222222222222', 124),\n ('222222222222222222222', 120),\n ('2222222222222222222222', 116),\n ('22222222222222222222222', 112),\n ('222222222222222222222222', 108),\n ('2222222222222222222222222', 104),\n ('22222222222222222222222222', 100),\n ('222222222222222222222222222', 96),\n ('2222222222222222222222222222', 92),\n ('singleip', 92),\n ('singleip/', 92),\n ('ingleip/', 92),\n ('22222222222222222222222222222', 88),\n ('========', 87),\n ('=========', 86),\n ('==========', 85),\n ('===========', 84),\n ('============', 83),\n ('=============', 82),\n ('==============', 81),\n ('===============', 80),\n ('================', 79),\n ('=================', 78),\n ('==================', 77),\n ('===================', 76),\n ('ThemePanelMe', 76),\n ('ThemePanelMen', 76),\n ('ThemePanelMenu', 76),\n ('hemePanelMe', 76),\n ('hemePanelMen', 76),\n ('hemePanelMenu', 76),\n ('emePanelMe', 76),\n ('emePanelMen', 76),\n ('emePanelMenu', 76),\n ('mePanelMe', 76),\n ('mePanelMen', 76),\n ('mePanelMenu', 76),\n ('ePanelMe', 76),\n ('ePanelMen', 76),\n ('ePanelMenu', 76),\n ('PanelMen', 76),\n ('PanelMenu', 76),\n ('anelMenu', 76),\n ('====================', 75),\n ('=====================', 74),\n ('======================', 73),\n ('=======================', 72),\n ('========================', 71),\n ('.ThemePanelMe', 71),\n ('.ThemePanelMen', 71),\n ('.ThemePanelMenu', 71),\n ('.classPK', 71),\n ('=========================', 70),\n ('.classPK2', 70),\n ('classPK2', 70),\n ('==========================', 69),\n ('ropertie', 69),\n ('roperties', 69),\n ('operties', 69),\n ('ThemePanelMa', 69),\n ('ThemePanelMai', 69),\n ('ThemePanelMain', 69),\n ('hemePanelMa', 69),\n ('hemePanelMai', 69),\n ('hemePanelMain', 69),\n ('emePanelMa', 69),\n ('emePanelMai', 69),\n ('emePanelMain', 69),\n ('mePanelMa', 69),\n ('mePanelMai', 69),\n ('mePanelMain', 69),\n ('ePanelMa', 69),\n ('ePanelMai', 69),\n ('ePanelMain', 69),\n ('PanelMai', 69),\n ('PanelMain', 69),\n ('anelMain', 69),\n ('===========================', 68),\n ('============================', 67),\n ('.ThemePanelMa', 67),\n ('.ThemePanelMai', 67),\n ('.ThemePanelMain', 67),\n ('=============================', 66),\n ('Properti', 66),\n ('Propertie', 66),\n ('Properties', 66),\n ('odePrope', 65),\n ('odeProper', 65),\n ('odePropert', 65),\n ('odeProperti', 65),\n ('odePropertie', 65),\n ('odeProperties', 65),\n ('deProper', 65),\n ('dePropert', 65),\n ('deProperti', 65),\n ('dePropertie', 65),\n ('deProperties', 65),\n ('ePropert', 65),\n ('eProperti', 65),\n ('ePropertie', 65),\n ('eProperties', 65),\n (',.ThemeP', 62),\n (',.ThemePa', 62),\n (',.ThemePan', 62),\n (',.ThemePane', 62),\n (',.ThemePanel', 62),\n (',.ThemePanelM', 61),\n ('thisMenu', 58),\n ('nodeProp', 55),\n ('nodePrope', 55),\n ('nodeProper', 55),\n ('nodePropert', 55),\n ('nodeProperti', 55),\n ('nodePropertie', 55),\n ('nodeProperties', 55),\n ('formSTPG', 54),\n ('formSTPGl', 54),\n ('formSTPGlo', 54),\n ('formSTPGlob', 54),\n ('formSTPGloba', 54),\n ('formSTPGlobal', 54),\n ('ormSTPGl', 54),\n ('ormSTPGlo', 54),\n ('ormSTPGlob', 54),\n ('ormSTPGloba', 54),\n ('ormSTPGlobal', 54),\n ('rmSTPGlo', 54),\n ('rmSTPGlob', 54),\n ('rmSTPGloba', 54),\n ('rmSTPGlobal', 54),\n ('mSTPGlob', 54),\n ('mSTPGloba', 54),\n ('mSTPGlobal', 54),\n ('STPGloba', 54),\n ('STPGlobal', 54),\n ('TPGlobal', 54),\n ('document.formST', 52),\n ('document.formSTP', 52),\n ('ocument.formST', 52),\n ('ocument.formSTP', 52),\n ('cument.formST', 52),\n ('cument.formSTP', 52),\n ('ument.formST', 52),\n ('ument.formSTP', 52),\n ('ment.formST', 52),\n ('ment.formSTP', 52),\n ('ent.formST', 52),\n ('ent.formSTP', 52),\n ('nt.formST', 52),\n ('nt.formSTP', 52),\n ('t.formST', 52),\n ('t.formSTP', 52),\n ('.formSTP', 52),\n ('document.formSTPG', 52),\n ('document.formSTPGl', 52),\n ('document.formSTPGlo', 52),\n ('document.formSTPGlob', 52),\n ('document.formSTPGloba', 52),\n ('document.formSTPGlobal', 52),\n ('ocument.formSTPG', 52),\n ('ocument.formSTPGl', 52),\n ('ocument.formSTPGlo', 52),\n ('ocument.formSTPGlob', 52),\n ('ocument.formSTPGloba', 52),\n ('ocument.formSTPGlobal', 52),\n ('cument.formSTPG', 52),\n ('cument.formSTPGl', 52),\n ('cument.formSTPGlo', 52),\n ('cument.formSTPGlob', 52),\n ('cument.formSTPGloba', 52),\n ('cument.formSTPGlobal', 52),\n ('ument.formSTPG', 52),\n ('ument.formSTPGl', 52),\n ('ument.formSTPGlo', 52),\n ('ument.formSTPGlob', 52),\n ('ument.formSTPGloba', 52),\n ('ument.formSTPGlobal', 52),\n ('ment.formSTPG', 52),\n ('ment.formSTPGl', 52),\n ('ment.formSTPGlo', 52),\n ('ment.formSTPGlob', 52),\n ('ment.formSTPGloba', 52),\n ('ment.formSTPGlobal', 52),\n ('ent.formSTPG', 52),\n ('ent.formSTPGl', 52),\n ('ent.formSTPGlo', 52),\n ('ent.formSTPGlob', 52),\n ('ent.formSTPGloba', 52),\n ('ent.formSTPGlobal', 52),\n ('nt.formSTPG', 52),\n ('nt.formSTPGl', 52),\n ('nt.formSTPGlo', 52),\n ('nt.formSTPGlob', 52),\n ('nt.formSTPGloba', 52),\n ('nt.formSTPGlobal', 52),\n ('t.formSTPG', 52),\n ('t.formSTPGl', 52),\n ('t.formSTPGlo', 52),\n ('t.formSTPGlob', 52),\n ('t.formSTPGloba', 52),\n ('t.formSTPGlobal', 52),\n ('.formSTPG', 52),\n ('.formSTPGl', 52),\n ('.formSTPGlo', 52),\n ('.formSTPGlob', 52),\n ('.formSTPGloba', 52),\n ('.formSTPGlobal', 52),\n ('document.formSTPGlobal.', 52),\n ('ocument.formSTPGlobal.', 52),\n ('cument.formSTPGlobal.', 52),\n ('ument.formSTPGlobal.', 52),\n ('ment.formSTPGlobal.', 52),\n ('ent.formSTPGlobal.', 52),\n ('nt.formSTPGlobal.', 52),\n ('t.formSTPGlobal.', 52),\n ('.formSTPGlobal.', 52),\n ('formSTPGlobal.', 52),\n ('ormSTPGlobal.', 52),\n ('rmSTPGlobal.', 52),\n ('mSTPGlobal.', 52),\n ('STPGlobal.', 52),\n ('TPGlobal.', 52),\n ('PGlobal.', 52),\n ('MenuItem', 52),\n ('.ThemePanelMenuI', 52),\n ('.ThemePanelMenuIt', 52),\n ('.ThemePanelMenuIte', 52),\n ('.ThemePanelMenuItem', 52),\n ('ThemePanelMenuI', 52),\n ('ThemePanelMenuIt', 52),\n ('ThemePanelMenuIte', 52),\n ('ThemePanelMenuItem', 52),\n ('hemePanelMenuI', 52),\n ('hemePanelMenuIt', 52),\n ('hemePanelMenuIte', 52),\n ('hemePanelMenuItem', 52),\n ('emePanelMenuI', 52),\n ('emePanelMenuIt', 52),\n ('emePanelMenuIte', 52),\n ('emePanelMenuItem', 52),\n ('mePanelMenuI', 52),\n ('mePanelMenuIt', 52),\n ('mePanelMenuIte', 52),\n ('mePanelMenuItem', 52),\n ('ePanelMenuI', 52),\n ('ePanelMenuIt', 52),\n ('ePanelMenuIte', 52),\n ('ePanelMenuItem', 52),\n ('PanelMenuI', 52),\n ('PanelMenuIt', 52),\n ('PanelMenuIte', 52),\n ('PanelMenuItem', 52),\n ('anelMenuI', 52),\n ('anelMenuIt', 52),\n ('anelMenuIte', 52),\n ('anelMenuItem', 52),\n ('nelMenuI', 52),\n ('nelMenuIt', 52),\n ('nelMenuIte', 52),\n ('nelMenuItem', 52),\n ('elMenuIt', 52),\n ('elMenuIte', 52),\n ('elMenuItem', 52),\n ('lMenuIte', 52),\n ('lMenuItem', 52),\n ('.classPK2\\\\', 52),\n ('.classPK2\\\\x', 52),\n ('classPK2\\\\', 52),\n ('classPK2\\\\x', 52),\n ('lassPK2\\\\', 52),\n ('lassPK2\\\\x', 52),\n ('assPK2\\\\x', 52),\n ('t,.Theme', 50),\n ('t,.ThemeP', 50),\n ('t,.ThemePa', 50),\n ('t,.ThemePan', 50),\n ('t,.ThemePane', 50),\n ('t,.ThemePanel', 50),\n ('t,.ThemePanelM', 50),\n ('rentItem', 48),\n ('frameObj', 48),\n ('MainItem', 48),\n ('.ThemePanelMainI', 48),\n ('.ThemePanelMainIt', 48),\n ('.ThemePanelMainIte', 48),\n ('.ThemePanelMainItem', 48),\n ('ThemePanelMainI', 48),\n ('ThemePanelMainIt', 48),\n ('ThemePanelMainIte', 48),\n ('ThemePanelMainItem', 48),\n ('hemePanelMainI', 48),\n ('hemePanelMainIt', 48),\n ('hemePanelMainIte', 48),\n ('hemePanelMainItem', 48),\n ('emePanelMainI', 48),\n ('emePanelMainIt', 48),\n ('emePanelMainIte', 48),\n ('emePanelMainItem', 48),\n ('mePanelMainI', 48),\n ('mePanelMainIt', 48),\n ('mePanelMainIte', 48),\n ('mePanelMainItem', 48),\n ('ePanelMainI', 48),\n ('ePanelMainIt', 48),\n ('ePanelMainIte', 48),\n ('ePanelMainItem', 48),\n ('PanelMainI', 48),\n ('PanelMainIt', 48),\n ('PanelMainIte', 48),\n ('PanelMainItem', 48),\n ('anelMainI', 48),\n ('anelMainIt', 48),\n ('anelMainIte', 48),\n ('anelMainItem', 48),\n ('nelMainI', 48),\n ('nelMainIt', 48),\n ('nelMainIte', 48),\n ('nelMainItem', 48),\n ('elMainIt', 48),\n ('elMainIte', 48),\n ('elMainItem', 48),\n ('lMainIte', 48),\n ('lMainItem', 48),\n ('--------', 46),\n ('function cm', 46),\n ('unction cm', 46),\n ('nction cm', 46),\n ('ction cm', 46),\n ('\\\\xff\\\\xff', 46),\n ('odeProperties.', 46),\n ('deProperties.', 46),\n ('eProperties.', 46),\n ('Properties.', 46),\n ('roperties.', 46),\n ('operties.', 46),\n ('perties.', 46),\n ('---------', 45),\n ('urrentIt', 45),\n ('urrentIte', 45),\n ('urrentItem', 45),\n ('rrentIte', 45),\n ('rrentItem', 45),\n ('//functi', 45),\n ('//functio', 45),\n ('//function', 45),\n ('//function ', 45),\n ('/functio', 45),\n ('/function', 45),\n ('/function ', 45),\n ('----------', 44),\n ('-----------', 43),\n ('menuInfo', 43),\n ('------------', 42),\n (\"\\\\').disabled=true;\\\\\", 42),\n (\"\\\\').disabled=true;\\\\t\", 42),\n (\"\\\\').disabled=true;\\\\t\\\\\", 42),\n (\"\\\\').disabled=true;\\\\t\\\\t\", 42),\n (\"').disabled=true;\\\\\", 42),\n (\"').disabled=true;\\\\t\", 42),\n (\"').disabled=true;\\\\t\\\\\", 42),\n (\"').disabled=true;\\\\t\\\\t\", 42),\n (').disabled=true;\\\\', 42),\n (').disabled=true;\\\\t', 42),\n (').disabled=true;\\\\t\\\\', 42),\n (').disabled=true;\\\\t\\\\t', 42),\n ('-------------', 41),\n ('--------------', 40),\n ('reeIndex', 40),\n ('//function c', 40),\n ('//function cm', 40),\n ('/function c', 40),\n ('/function cm', 40),\n ('currentD', 40),\n ('currentDo', 40),\n ('currentDom', 40),\n ('currentDomI', 40),\n ('currentDomIt', 40),\n ('currentDomIte', 40),\n ('currentDomItem', 40),\n ('urrentDo', 40),\n ('urrentDom', 40),\n ('urrentDomI', 40),\n ('urrentDomIt', 40),\n ('urrentDomIte', 40),\n ('urrentDomItem', 40),\n ('rrentDom', 40),\n ('rrentDomI', 40),\n ('rrentDomIt', 40),\n ('rrentDomIte', 40),\n ('rrentDomItem', 40),\n ('rentDomI', 40),\n ('rentDomIt', 40),\n ('rentDomIte', 40),\n ('rentDomItem', 40),\n ('entDomIt', 40),\n ('entDomIte', 40),\n ('entDomItem', 40),\n ('ntDomIte', 40),\n ('ntDomItem', 40),\n ('tDomItem', 40),\n ('>\");\\\\t\\\\t\\\\t\\\\t\\\\t\\\\', 39),\n ('>\");\\\\t\\\\t\\\\t\\\\t\\\\t\\\\t', 39),\n ('\");\\\\t\\\\t\\\\t\\\\t\\\\t\\\\', 39),\n ('\");\\\\t\\\\t\\\\t\\\\t\\\\t\\\\t', 39),\n (');\\\\t\\\\t\\\\t\\\\t\\\\t\\\\', 39),\n (');\\\\t\\\\t\\\\t\\\\t\\\\t\\\\t', 39),\n ('---------------', 39),\n ('nodeProperties.', 39),\n ('----------------', 38),\n (\"\\\\').disabled=true;\\\\t\\\\t\\\\\", 38),\n (\"\\\\').disabled=true;\\\\t\\\\t\\\\t\", 38),\n (\"').disabled=true;\\\\t\\\\t\\\\\", 38),\n (\"').disabled=true;\\\\t\\\\t\\\\t\", 38),\n (').disabled=true;\\\\t\\\\t\\\\', 38),\n (').disabled=true;\\\\t\\\\t\\\\t', 38),\n (')\\\\t\\\\tret', 37),\n (')\\\\t\\\\tretu', 37),\n (')\\\\t\\\\tretur', 37),\n (')\\\\t\\\\treturn', 37),\n ('>\");\\\\t\\\\t\\\\t\\\\t\\\\t\\\\t\\\\', 37),\n ('>\");\\\\t\\\\t\\\\t\\\\t\\\\t\\\\t\\\\t', 37),\n ('\");\\\\t\\\\t\\\\t\\\\t\\\\t\\\\t\\\\', 37),\n ('\");\\\\t\\\\t\\\\t\\\\t\\\\t\\\\t\\\\t', 37),\n (');\\\\t\\\\t\\\\t\\\\t\\\\t\\\\t\\\\', 37),\n (');\\\\t\\\\t\\\\t\\\\t\\\\t\\\\t\\\\t', 37),\n ('formRSTI', 37),\n ('-----------------', 37),\n ('subMenu.', 37),\n ('------------------', 36),\n ('\\\\t\\\\tthis', 36),\n ('.ThemeXP', 36),\n (\"\\\\';     \", 35),\n (\"\\\\';      \", 35),\n (\"\\\\';       \", 35),\n (\"';      \", 35),\n (\"';       \", 35),\n ('formRSTI.', 35),\n ('ormRSTI.', 35),\n ('-------------------', 35),\n (\"\\\\';        \", 34),\n (\"';        \", 34),\n ('].style.d', 34),\n ('].style.di', 34),\n ('].style.dis', 34),\n ('].style.disp', 34),\n ('].style.displ', 34),\n ('].style.displa', 34),\n ('].style.display', 34),\n ('document.formR', 34),\n ('ocument.formR', 34),\n ('cument.formR', 34),\n ('ument.formR', 34),\n ('ment.formR', 34),\n ('ent.formR', 34),\n ('nt.formR', 34),\n ('document.formRS', 34),\n ('document.formRST', 34),\n ('document.formRSTI', 34),\n ('document.formRSTI.', 34),\n ('ocument.formRS', 34),\n ('ocument.formRST', 34),\n ('ocument.formRSTI', 34),\n ('ocument.formRSTI.', 34),\n ('cument.formRS', 34),\n ('cument.formRST', 34),\n ('cument.formRSTI', 34),\n ('cument.formRSTI.', 34),\n ('ument.formRS', 34),\n ('ument.formRST', 34),\n ('ument.formRSTI', 34),\n ('ument.formRSTI.', 34),\n ('ment.formRS', 34),\n ('ment.formRST', 34),\n ('ment.formRSTI', 34),\n ('ment.formRSTI.', 34),\n ('ent.formRS', 34),\n ('ent.formRST', 34),\n ('ent.formRSTI', 34),\n ('ent.formRSTI.', 34),\n ('nt.formRS', 34),\n ('nt.formRST', 34),\n ('nt.formRSTI', 34),\n ('nt.formRSTI.', 34),\n ('t.formRS', 34),\n ('t.formRST', 34),\n ('t.formRSTI', 34),\n ('t.formRSTI.', 34),\n ('.formRST', 34),\n ('.formRSTI', 34),\n ('.formRSTI.', 34),\n (';        document.f', 34),\n (';        document.fo', 34),\n (';        document.for', 34),\n (';        document.form', 34),\n ('--------------------', 34),\n (';        document.formS', 34),\n (';        document.formST', 34),\n (';        document.formSTP', 34),\n (';        document.formSTPG', 34),\n (';        document.formSTPGl', 34),\n (';        document.formSTPGlo', 34),\n (';        document.formSTPGlob', 34),\n ('rameObj.', 34),\n ('].style.display ', 33),\n ('].style.display =', 33),\n ('].style.display = ', 33),\n ('].style.display = \\\\', 33),\n (\"].style.display = \\\\'\", 33),\n ('---------------------', 33),\n ('function ct', 33),\n ('unction ct', 33),\n ('nction ct', 33),\n ('ction ct', 33),\n ('enu.styl', 33),\n ('enu.style', 33),\n ('enu.style.', 33),\n ('nu.style', 33),\n ('nu.style.', 33),\n ('u.style.', 33),\n ('frameObj.', 33),\n (\"t\\\\').dis\", 32),\n (\"t\\\\').disa\", 32),\n (\"t\\\\').disab\", 32),\n (\"t\\\\').disabl\", 32),\n (\"t\\\\').disable\", 32),\n (\"t\\\\').disabled\", 32),\n ('>\\\\t\\\\t<td w', 32),\n ('>\\\\t\\\\t<td wi', 32),\n ('>\\\\t\\\\t<td wid', 32),\n ('>\\\\t\\\\t<td widt', 32),\n ('>\\\\t\\\\t<td width', 32),\n ('>\\\\t\\\\t<td width=', 32),\n (';        document.formR', 32),\n (';        document.formRS', 32),\n (';        document.formRST', 32),\n (';        document.formRSTI', 32),\n (';        document.formRSTI.', 32),\n ('----------------------', 32),\n (\"Port\\\\').d\", 32),\n (\"Port\\\\').di\", 32),\n (\"Port\\\\').dis\", 32),\n (\"Port\\\\').disa\", 32),\n (\"Port\\\\').disab\", 32),\n (\"Port\\\\').disabl\", 32),\n (\"Port\\\\').disable\", 32),\n (\"Port\\\\').disabled\", 32),\n (\"Port\\\\').disabled=\", 32),\n (\"ort\\\\').d\", 32),\n (\"ort\\\\').di\", 32),\n (\"ort\\\\').dis\", 32),\n (\"ort\\\\').disa\", 32),\n (\"ort\\\\').disab\", 32),\n (\"ort\\\\').disabl\", 32),\n (\"ort\\\\').disable\", 32),\n (\"ort\\\\').disabled\", 32),\n (\"ort\\\\').disabled=\", 32),\n (\"rt\\\\').di\", 32),\n (\"rt\\\\').dis\", 32),\n (\"rt\\\\').disa\", 32),\n (\"rt\\\\').disab\", 32),\n (\"rt\\\\').disabl\", 32),\n (\"rt\\\\').disable\", 32),\n (\"rt\\\\').disabled\", 32),\n (\"rt\\\\').disabled=\", 32),\n (\"t\\\\').disabled=\", 32),\n ('\\\\xff\\\\xff\\\\', 32),\n ('\\\\xff\\\\xff\\\\x', 32),\n ('xff\\\\xff\\\\', 32),\n ('xff\\\\xff\\\\x', 32),\n ('ff\\\\xff\\\\x', 32),\n ('thisMenu.', 32),\n ('hisMenu.', 32),\n (',.ThemePanelMe', 32),\n (',.ThemePanelMen', 32),\n (',.ThemePanelMenu', 32),\n ('::::::::', 32),\n ('\\\\t\\\\t\\\\t\\\\t', 31),\n ('-----------------------', 31),\n ('currentI', 31),\n ('currentIt', 31),\n ('currentIte', 31),\n ('currentItem', 31),\n ('}function ct', 31),\n (',.ThemePanelMenuI', 31),\n (',.ThemePanelMenuIt', 31),\n (',.ThemePanelMenuIte', 31),\n (',.ThemePanelMenuItem', 31),\n (':::::::::', 31),\n ('Instance', 30),\n ('------------------------', 30),\n ('>\");\\\\t\\\\t\\\\t\\\\t\\\\t\\\\t\\\\td', 30),\n ('>\");\\\\t\\\\t\\\\t\\\\t\\\\t\\\\t\\\\tdo', 30),\n ('>\");\\\\t\\\\t\\\\t\\\\t\\\\t\\\\t\\\\tdoc', 30),\n ('>\");\\\\t\\\\t\\\\t\\\\t\\\\t\\\\t\\\\tdocu', 30),\n ('>\");\\\\t\\\\t\\\\t\\\\t\\\\t\\\\t\\\\tdocum', 30),\n ('>\");\\\\t\\\\t\\\\t\\\\t\\\\t\\\\t\\\\tdocume', 30),\n ('>\");\\\\t\\\\t\\\\t\\\\t\\\\t\\\\t\\\\tdocumen', 30),\n ('>\");\\\\t\\\\t\\\\t\\\\t\\\\t\\\\t\\\\tdocument', 30),\n ('>\");\\\\t\\\\t\\\\t\\\\t\\\\t\\\\t\\\\tdocument.', 30),\n ('>\");\\\\t\\\\t\\\\t\\\\t\\\\t\\\\t\\\\tdocument.w', 30),\n ('>\");\\\\t\\\\t\\\\t\\\\t\\\\t\\\\t\\\\tdocument.wr', 30),\n ('\");\\\\t\\\\t\\\\t\\\\t\\\\t\\\\t\\\\td', 30),\n ('\");\\\\t\\\\t\\\\t\\\\t\\\\t\\\\t\\\\tdo', 30),\n ('\");\\\\t\\\\t\\\\t\\\\t\\\\t\\\\t\\\\tdoc', 30),\n ('\");\\\\t\\\\t\\\\t\\\\t\\\\t\\\\t\\\\tdocu', 30),\n ('\");\\\\t\\\\t\\\\t\\\\t\\\\t\\\\t\\\\tdocum', 30),\n ('\");\\\\t\\\\t\\\\t\\\\t\\\\t\\\\t\\\\tdocume', 30),\n ('\");\\\\t\\\\t\\\\t\\\\t\\\\t\\\\t\\\\tdocumen', 30),\n ('\");\\\\t\\\\t\\\\t\\\\t\\\\t\\\\t\\\\tdocument', 30),\n ('\");\\\\t\\\\t\\\\t\\\\t\\\\t\\\\t\\\\tdocument.', 30),\n ('\");\\\\t\\\\t\\\\t\\\\t\\\\t\\\\t\\\\tdocument.w', 30),\n ('\");\\\\t\\\\t\\\\t\\\\t\\\\t\\\\t\\\\tdocument.wr', 30),\n ('\");\\\\t\\\\t\\\\t\\\\t\\\\t\\\\t\\\\tdocument.wri', 30),\n (');\\\\t\\\\t\\\\t\\\\t\\\\t\\\\t\\\\td', 30),\n (');\\\\t\\\\t\\\\t\\\\t\\\\t\\\\t\\\\tdo', 30),\n (');\\\\t\\\\t\\\\t\\\\t\\\\t\\\\t\\\\tdoc', 30),\n (');\\\\t\\\\t\\\\t\\\\t\\\\t\\\\t\\\\tdocu', 30),\n (');\\\\t\\\\t\\\\t\\\\t\\\\t\\\\t\\\\tdocum', 30),\n (');\\\\t\\\\t\\\\t\\\\t\\\\t\\\\t\\\\tdocume', 30),\n (');\\\\t\\\\t\\\\t\\\\t\\\\t\\\\t\\\\tdocumen', 30),\n (');\\\\t\\\\t\\\\t\\\\t\\\\t\\\\t\\\\tdocument', 30),\n (');\\\\t\\\\t\\\\t\\\\t\\\\t\\\\t\\\\tdocument.', 30),\n (');\\\\t\\\\t\\\\t\\\\t\\\\t\\\\t\\\\tdocument.w', 30),\n (');\\\\t\\\\t\\\\t\\\\t\\\\t\\\\t\\\\tdocument.wr', 30),\n (');\\\\t\\\\t\\\\t\\\\t\\\\t\\\\t\\\\tdocument.wri', 30),\n (');\\\\t\\\\t\\\\t\\\\t\\\\t\\\\t\\\\tdocument.writ', 30),\n (';\\\\t\\\\t\\\\t\\\\t\\\\t\\\\t\\\\td', 30),\n (';\\\\t\\\\t\\\\t\\\\t\\\\t\\\\t\\\\tdo', 30),\n (';\\\\t\\\\t\\\\t\\\\t\\\\t\\\\t\\\\tdoc', 30),\n (';\\\\t\\\\t\\\\t\\\\t\\\\t\\\\t\\\\tdocu', 30),\n (';\\\\t\\\\t\\\\t\\\\t\\\\t\\\\t\\\\tdocum', 30),\n (';\\\\t\\\\t\\\\t\\\\t\\\\t\\\\t\\\\tdocume', 30),\n (';\\\\t\\\\t\\\\t\\\\t\\\\t\\\\t\\\\tdocumen', 30),\n (';\\\\t\\\\t\\\\t\\\\t\\\\t\\\\t\\\\tdocument', 30),\n (';\\\\t\\\\t\\\\t\\\\t\\\\t\\\\t\\\\tdocument.', 30),\n (';\\\\t\\\\t\\\\t\\\\t\\\\t\\\\t\\\\tdocument.w', 30),\n (';\\\\t\\\\t\\\\t\\\\t\\\\t\\\\t\\\\tdocument.wr', 30),\n (';\\\\t\\\\t\\\\t\\\\t\\\\t\\\\t\\\\tdocument.wri', 30),\n (';\\\\t\\\\t\\\\t\\\\t\\\\t\\\\t\\\\tdocument.writ', 30),\n (';\\\\t\\\\t\\\\t\\\\t\\\\t\\\\t\\\\tdocument.write', 30),\n ('tInstanc', 30),\n ('tInstance', 30),\n ('::::::::::', 30),\n ('\\\\xb3\\\\xb0', 30),\n ('.classPK2\\\\xf', 30),\n ('classPK2\\\\xf', 30),\n ('lassPK2\\\\xf', 30),\n ('assPK2\\\\xf', 30),\n ('ssPK2\\\\xf', 30),\n ('_pass.di', 29),\n ('_pass.dis', 29),\n ('_pass.disa', 29),\n ('_pass.disab', 29),\n ('_pass.disabl', 29),\n ('_pass.disable', 29),\n ('_pass.disabled', 29),\n ('pass.dis', 29),\n ('pass.disa', 29),\n ('pass.disab', 29),\n ('pass.disabl', 29),\n ('pass.disable', 29),\n ('pass.disabled', 29),\n ('ass.disa', 29),\n ('ass.disab', 29),\n ('ass.disabl', 29),\n ('ass.disable', 29),\n ('ass.disabled', 29),\n ('_key.dis', 29),\n ('_key.disa', 29),\n ('_key.disab', 29),\n ('_key.disabl', 29),\n ('_key.disable', 29),\n ('_key.disabled', 29),\n ('key.disa', 29),\n ('key.disab', 29),\n ('key.disabl', 29),\n ('key.disable', 29),\n ('key.disabled', 29),\n ('ey.disab', 29),\n ('ey.disabl', 29),\n ('ey.disable', 29),\n ('ey.disabled', 29),\n (\"\\\\';        d\", 29),\n (\"\\\\';        do\", 29),\n (\"\\\\';        doc\", 29),\n (\"\\\\';        docu\", 29),\n (\"\\\\';        docum\", 29),\n (\"\\\\';        docume\", 29),\n (\"\\\\';        documen\", 29),\n (\"\\\\';        document\", 29),\n (\"\\\\';        document.\", 29),\n (\"\\\\';        document.f\", 29),\n (\"\\\\';        document.fo\", 29),\n (\"\\\\';        document.for\", 29),\n (\"\\\\';        document.form\", 29),\n (\"';        d\", 29),\n (\"';        do\", 29),\n (\"';        doc\", 29),\n (\"';        docu\", 29),\n (\"';        docum\", 29),\n (\"';        docume\", 29),\n (\"';        documen\", 29),\n (\"';        document\", 29),\n (\"';        document.\", 29),\n (\"';        document.f\", 29),\n (\"';        document.fo\", 29),\n (\"';        document.for\", 29),\n (\"';        document.form\", 29),\n ('-------------------------', 29),\n ('\\\\t\\\\titem', 29),\n (\"\\\\';        document.formS\", 29),\n (\"\\\\';        document.formST\", 29),\n (\"\\\\';        document.formSTP\", 29),\n (\"\\\\';        document.formSTPG\", 29),\n (\"\\\\';        document.formSTPGl\", 29),\n (\"';        document.formS\", 29),\n (\"';        document.formST\", 29),\n (\"';        document.formSTP\", 29),\n (\"';        document.formSTPG\", 29),\n (\"';        document.formSTPGl\", 29),\n (\"';        document.formSTPGlo\", 29),\n ('ItemHove', 29),\n ('ItemHover', 29),\n ('temHover', 29),\n ('ItemActi', 29),\n ('ItemActiv', 29),\n ('ItemActive', 29),\n ('temActiv', 29),\n ('temActive', 29),\n ('emActive', 29),\n (',.ThemePanelMa', 29),\n (',.ThemePanelMai', 29),\n (',.ThemePanelMain', 29),\n (':::::::::::', 29),\n ('.gifs\\\\xf', 29),\n ('.gifs\\\\xf7', 29),\n ('.gifs\\\\xf7t', 29),\n ('.gifs\\\\xf7t\\\\', 29),\n ('.gifs\\\\xf7t\\\\x', 29),\n ('.gifs\\\\xf7t\\\\xb', 29),\n ('.gifs\\\\xf7t\\\\xb3', 29),\n ('.gifs\\\\xf7t\\\\xb3\\\\', 29),\n ('.gifs\\\\xf7t\\\\xb3\\\\x', 29),\n ('.gifs\\\\xf7t\\\\xb3\\\\xb', 29),\n ('.gifs\\\\xf7t\\\\xb3\\\\xb0', 29),\n ('.gifs\\\\xf7t\\\\xb3\\\\xb0L', 29),\n ('gifs\\\\xf7', 29),\n ('gifs\\\\xf7t', 29),\n ('gifs\\\\xf7t\\\\', 29),\n ('gifs\\\\xf7t\\\\x', 29),\n ('gifs\\\\xf7t\\\\xb', 29),\n ('gifs\\\\xf7t\\\\xb3', 29),\n ('gifs\\\\xf7t\\\\xb3\\\\', 29),\n ('gifs\\\\xf7t\\\\xb3\\\\x', 29),\n ('gifs\\\\xf7t\\\\xb3\\\\xb', 29),\n ('gifs\\\\xf7t\\\\xb3\\\\xb0', 29),\n ('gifs\\\\xf7t\\\\xb3\\\\xb0L', 29),\n ('ifs\\\\xf7t', 29),\n ('ifs\\\\xf7t\\\\', 29),\n ('ifs\\\\xf7t\\\\x', 29),\n ('ifs\\\\xf7t\\\\xb', 29),\n ('ifs\\\\xf7t\\\\xb3', 29),\n ('ifs\\\\xf7t\\\\xb3\\\\', 29),\n ('ifs\\\\xf7t\\\\xb3\\\\x', 29),\n ('ifs\\\\xf7t\\\\xb3\\\\xb', 29),\n ('ifs\\\\xf7t\\\\xb3\\\\xb0', 29),\n ('ifs\\\\xf7t\\\\xb3\\\\xb0L', 29),\n ('fs\\\\xf7t\\\\', 29),\n ('fs\\\\xf7t\\\\x', 29),\n ('fs\\\\xf7t\\\\xb', 29),\n ('fs\\\\xf7t\\\\xb3', 29),\n ('fs\\\\xf7t\\\\xb3\\\\', 29),\n ('fs\\\\xf7t\\\\xb3\\\\x', 29),\n ('fs\\\\xf7t\\\\xb3\\\\xb', 29),\n ('fs\\\\xf7t\\\\xb3\\\\xb0', 29),\n ('fs\\\\xf7t\\\\xb3\\\\xb0L', 29),\n ('s\\\\xf7t\\\\x', 29),\n ('s\\\\xf7t\\\\xb', 29),\n ('s\\\\xf7t\\\\xb3', 29),\n ('s\\\\xf7t\\\\xb3\\\\', 29),\n ('s\\\\xf7t\\\\xb3\\\\x', 29),\n ('s\\\\xf7t\\\\xb3\\\\xb', 29),\n ('s\\\\xf7t\\\\xb3\\\\xb0', 29),\n ('s\\\\xf7t\\\\xb3\\\\xb0L', 29),\n ('\\\\xf7t\\\\xb', 29),\n ('\\\\xf7t\\\\xb3', 29),\n ('\\\\xf7t\\\\xb3\\\\', 29),\n ('\\\\xf7t\\\\xb3\\\\x', 29),\n ('\\\\xf7t\\\\xb3\\\\xb', 29),\n ('\\\\xf7t\\\\xb3\\\\xb0', 29),\n ('\\\\xf7t\\\\xb3\\\\xb0L', 29),\n ('xf7t\\\\xb3', 29),\n ('xf7t\\\\xb3\\\\', 29),\n ('xf7t\\\\xb3\\\\x', 29),\n ('xf7t\\\\xb3\\\\xb', 29),\n ('xf7t\\\\xb3\\\\xb0', 29),\n ('xf7t\\\\xb3\\\\xb0L', 29),\n ('f7t\\\\xb3\\\\', 29),\n ('f7t\\\\xb3\\\\x', 29),\n ('f7t\\\\xb3\\\\xb', 29),\n ('f7t\\\\xb3\\\\xb0', 29),\n ('f7t\\\\xb3\\\\xb0L', 29),\n ('7t\\\\xb3\\\\x', 29),\n ('7t\\\\xb3\\\\xb', 29),\n ('7t\\\\xb3\\\\xb0', 29),\n ('7t\\\\xb3\\\\xb0L', 29),\n ('t\\\\xb3\\\\xb', 29),\n ('t\\\\xb3\\\\xb0', 29),\n ('t\\\\xb3\\\\xb0L', 29),\n ('\\\\xb3\\\\xb0L', 29),\n ('xb3\\\\xb0L', 29),\n ('\\\\t\\\\td.pr', 28),\n ('\\\\t\\\\td.pri', 28),\n ('\\\\t\\\\td.priv', 28),\n ('\\\\t\\\\td.priv_', 28),\n ('t\\\\td.pri', 28),\n ('t\\\\td.priv', 28),\n ('t\\\\td.priv_', 28),\n ('\\\\td.priv', 28),\n ('\\\\td.priv_', 28),\n ('td.priv_', 28),\n ('t\\\\t\\\\tdocument.write(\"<param N', 28),\n ('\\\\t\\\\tdocument.write(\"<param N', 28),\n ('\\\\t\\\\tdocument.write(\"<param NA', 28),\n ('t\\\\tdocument.write(\"<param N', 28),\n ('t\\\\tdocument.write(\"<param NA', 28),\n ('t\\\\tdocument.write(\"<param NAM', 28),\n ('\\\\tdocument.write(\"<param N', 28),\n ('\\\\tdocument.write(\"<param NA', 28),\n ('\\\\tdocument.write(\"<param NAM', 28),\n ('\\\\tdocument.write(\"<param NAME', 28),\n ('tdocument.write(\"<param N', 28),\n ('tdocument.write(\"<param NA', 28),\n ('tdocument.write(\"<param NAM', 28),\n ('tdocument.write(\"<param NAME', 28),\n ('tdocument.write(\"<param NAME=', 28),\n ('document.write(\"<param N', 28),\n ('document.write(\"<param NA', 28),\n ('document.write(\"<param NAM', 28),\n ('document.write(\"<param NAME', 28),\n ('document.write(\"<param NAME=', 28),\n ('ocument.write(\"<param N', 28),\n ('ocument.write(\"<param NA', 28),\n ('ocument.write(\"<param NAM', 28),\n ('ocument.write(\"<param NAME', 28),\n ('ocument.write(\"<param NAME=', 28),\n ('cument.write(\"<param N', 28),\n ('cument.write(\"<param NA', 28),\n ('cument.write(\"<param NAM', 28),\n ('cument.write(\"<param NAME', 28),\n ('cument.write(\"<param NAME=', 28),\n ('ument.write(\"<param N', 28),\n ('ument.write(\"<param NA', 28),\n ('ument.write(\"<param NAM', 28),\n ('ument.write(\"<param NAME', 28),\n ('ument.write(\"<param NAME=', 28),\n ('ment.write(\"<param N', 28),\n ('ment.write(\"<param NA', 28),\n ('ment.write(\"<param NAM', 28),\n ('ment.write(\"<param NAME', 28),\n ('ment.write(\"<param NAME=', 28),\n ('ent.write(\"<param N', 28),\n ('ent.write(\"<param NA', 28),\n ('ent.write(\"<param NAM', 28),\n ('ent.write(\"<param NAME', 28),\n ('ent.write(\"<param NAME=', 28),\n ('nt.write(\"<param N', 28),\n ('nt.write(\"<param NA', 28),\n ('nt.write(\"<param NAM', 28),\n ('nt.write(\"<param NAME', 28),\n ('nt.write(\"<param NAME=', 28),\n ('t.write(\"<param N', 28),\n ('t.write(\"<param NA', 28),\n ('t.write(\"<param NAM', 28),\n ('t.write(\"<param NAME', 28),\n ('t.write(\"<param NAME=', 28),\n ('.write(\"<param N', 28),\n ('.write(\"<param NA', 28),\n ('.write(\"<param NAM', 28),\n ('.write(\"<param NAME', 28),\n ('.write(\"<param NAME=', 28),\n ('write(\"<param N', 28),\n ('write(\"<param NA', 28),\n ('write(\"<param NAM', 28),\n ('write(\"<param NAME', 28),\n ('write(\"<param NAME=', 28),\n ('rite(\"<param N', 28),\n ('rite(\"<param NA', 28),\n ('rite(\"<param NAM', 28),\n ('rite(\"<param NAME', 28),\n ('rite(\"<param NAME=', 28),\n ('ite(\"<param N', 28),\n ('ite(\"<param NA', 28),\n ('ite(\"<param NAM', 28),\n ('ite(\"<param NAME', 28),\n ('ite(\"<param NAME=', 28),\n ('te(\"<param N', 28),\n ('te(\"<param NA', 28),\n ('te(\"<param NAM', 28),\n ('te(\"<param NAME', 28),\n ('te(\"<param NAME=', 28),\n ('e(\"<param N', 28),\n ('e(\"<param NA', 28),\n ('e(\"<param NAM', 28),\n ('e(\"<param NAME', 28),\n ('e(\"<param NAME=', 28),\n ('(\"<param N', 28),\n ('(\"<param NA', 28),\n ('(\"<param NAM', 28),\n ('(\"<param NAME', 28),\n ('(\"<param NAME=', 28),\n ('\"<param N', 28),\n ('\"<param NA', 28),\n ('\"<param NAM', 28),\n ('\"<param NAME', 28),\n ('\"<param NAME=', 28),\n ('<param NAME=', 28),\n ('param NAME=', 28),\n ('aram NAME=', 28),\n ('ram NAME=', 28),\n ('am NAME=', 28),\n ('--------------------------', 28),\n ('\\\\tborder', 28),\n ('refix + ', 28),\n ('refix + \\\\', 28),\n (\"refix + \\\\'\", 28),\n ('efix + \\\\', 28),\n (\"efix + \\\\'\", 28),\n (\"fix + \\\\'\", 28),\n ('thisMenu.c', 28),\n ('hisMenu.c', 28),\n ('isMenu.c', 28),\n ('::::::::::::', 28),\n ('_pass.disabled ', 27),\n ('_pass.disabled =', 27),\n ('pass.disabled ', 27),\n ('pass.disabled =', 27),\n ('ass.disabled ', 27),\n ('ass.disabled =', 27),\n ('---------------------------', 27),\n ('f\\\\xff\\\\xf', 27),\n ('treeInde', 27),\n ('treeIndex', 27),\n ('ffectIns', 27),\n ('ffectInst', 27),\n ('ffectInsta', 27),\n ('ffectInstan', 27),\n ('ffectInstanc', 27),\n ('ffectInstance', 27),\n ('fectInst', 27),\n ('fectInsta', 27),\n ...]"
      ]
     },
     "execution_count": 7,
     "metadata": {},
     "output_type": "execute_result"
    }
   ],
   "source": [
    "final"
   ]
  },
  {
   "cell_type": "markdown",
   "metadata": {},
   "source": [
    "### Below is scratch"
   ]
  },
  {
   "cell_type": "code",
   "execution_count": 5,
   "metadata": {},
   "outputs": [
    {
     "name": "stdout",
     "output_type": "stream",
     "text": [
      "[('////////', 408), ('/////////', 402), ('//////////', 396), ('///////////', 390), ('////////////', 384), ('/////////////', 378), ('//////////////', 372), ('///////////////', 366), ('////////////////', 360), ('/////////////////', 354), ('//////////////////', 348), ('///////////////////', 342), ('////////////////////', 336), ('/////////////////////', 330), ('//////////////////////', 324), ('///////////////////////', 318), ('////////////////////////', 312), ('/////////////////////////', 306), ('//////////////////////////', 300), ('///////////////////////////', 294), ('////////////////////////////', 288), ('/////////////////////////////', 282), ('22222222', 172), ('ThemePan', 171), ('ThemePane', 171), ('ThemePanel', 171), ('hemePane', 171), ('hemePanel', 171), ('emePanel', 171), ('222222222', 168), ('2222222222', 164), ('22222222222', 160), ('222222222222', 156), ('2222222222222', 152), ('22222222222222', 148), ('ThemePanelM', 145), ('hemePanelM', 145), ('emePanelM', 145), ('mePanelM', 145), ('222222222222222', 144), ('.ThemePa', 143), ('.ThemePan', 143), ('.ThemePane', 143), ('.ThemePanel', 143), ('2222222222222222', 140), ('.ThemePanelM', 138), ('22222222222222222', 136), ('222222222222222222', 132), ('2222222222222222222', 128), ('22222222222222222222', 124), ('222222222222222222222', 120), ('2222222222222222222222', 116), ('22222222222222222222222', 112), ('222222222222222222222222', 108), ('2222222222222222222222222', 104), ('22222222222222222222222222', 100), ('222222222222222222222222222', 96), ('2222222222222222222222222222', 92), ('singleip', 92), ('singleip/', 92), ('ingleip/', 92), ('22222222222222222222222222222', 88), ('========', 87), ('=========', 86), ('==========', 85), ('===========', 84), ('============', 83), ('=============', 82), ('==============', 81), ('===============', 80), ('================', 79), ('=================', 78), ('==================', 77), ('===================', 76), ('ThemePanelMe', 76), ('ThemePanelMen', 76), ('ThemePanelMenu', 76), ('hemePanelMe', 76), ('hemePanelMen', 76), ('hemePanelMenu', 76), ('emePanelMe', 76), ('emePanelMen', 76), ('emePanelMenu', 76), ('mePanelMe', 76), ('mePanelMen', 76), ('mePanelMenu', 76), ('ePanelMe', 76), ('ePanelMen', 76), ('ePanelMenu', 76), ('PanelMen', 76), ('PanelMenu', 76), ('anelMenu', 76), ('====================', 75), ('=====================', 74), ('======================', 73), ('=======================', 72), ('========================', 71), ('.ThemePanelMe', 71), ('.ThemePanelMen', 71), ('.ThemePanelMenu', 71)]\n"
     ]
    }
   ],
   "source": [
    "import operator\n",
    "\n",
    "cnts_sort = sorted(cnts2.items(), key=operator.itemgetter(1),reverse=True)\n",
    "len(cnts_sort)\n",
    "print(cnts_sort[:10000])\n",
    "v = cnts_sort[:1][0][0]"
   ]
  },
  {
   "cell_type": "code",
   "execution_count": 7,
   "metadata": {},
   "outputs": [
    {
     "name": "stdout",
     "output_type": "stream",
     "text": [
      "[('////////', 378), ('/////////', 372), ('//////////', 366), ('///////////', 360), ('////////////', 354), ('/////////////', 348), ('//////////////', 342), ('///////////////', 336), ('////////////////', 330), ('/////////////////', 324), ('//////////////////', 318), ('///////////////////', 312), ('////////////////////', 306), ('/////////////////////', 300), ('//////////////////////', 294), ('///////////////////////', 288), ('////////////////////////', 282), ('/////////////////////////', 276), ('//////////////////////////', 270), ('///////////////////////////', 264), ('////////////////////////////', 258), ('/////////////////////////////', 252), ('22222222', 172), ('ThemePan', 171), ('ThemePane', 171), ('ThemePanel', 171), ('hemePane', 171), ('hemePanel', 171), ('emePanel', 171), ('222222222', 168), ('2222222222', 164), ('22222222222', 160), ('222222222222', 156), ('2222222222222', 152), ('22222222222222', 148), ('ThemePanelM', 145), ('hemePanelM', 145), ('emePanelM', 145), ('mePanelM', 145), ('222222222222222', 144), ('.ThemePa', 143), ('.ThemePan', 143), ('.ThemePane', 143), ('.ThemePanel', 143), ('2222222222222222', 140), ('.ThemePanelM', 138), ('22222222222222222', 136), ('222222222222222222', 132), ('2222222222222222222', 128), ('22222222222222222222', 124), ('222222222222222222222', 120), ('2222222222222222222222', 116), ('22222222222222222222222', 112), ('\\\\x1f\\\\x1f\\\\', 112), ('\\\\x1f\\\\x1f\\\\x', 112), ('x1f\\\\x1f\\\\', 112), ('x1f\\\\x1f\\\\x', 112), ('1f\\\\x1f\\\\x', 112), ('\\\\x1f\\\\x1f\\\\x1', 110), ('\\\\x1f\\\\x1f\\\\x1f', 110), ('x1f\\\\x1f\\\\x1', 110), ('x1f\\\\x1f\\\\x1f', 110), ('1f\\\\x1f\\\\x1', 110), ('1f\\\\x1f\\\\x1f', 110), ('f\\\\x1f\\\\x1f', 110), ('222222222222222222222222', 108), ('\\\\x1f\\\\x1f\\\\x1f\\\\', 108), ('\\\\x1f\\\\x1f\\\\x1f\\\\x', 108), ('x1f\\\\x1f\\\\x1f\\\\', 108), ('x1f\\\\x1f\\\\x1f\\\\x', 108), ('1f\\\\x1f\\\\x1f\\\\', 108), ('1f\\\\x1f\\\\x1f\\\\x', 108), ('f\\\\x1f\\\\x1f\\\\', 108), ('f\\\\x1f\\\\x1f\\\\x', 108), ('\\\\x1f\\\\x1f\\\\x1f\\\\x1', 106), ('\\\\x1f\\\\x1f\\\\x1f\\\\x1f', 106), ('x1f\\\\x1f\\\\x1f\\\\x1', 106), ('x1f\\\\x1f\\\\x1f\\\\x1f', 106), ('1f\\\\x1f\\\\x1f\\\\x1', 106), ('1f\\\\x1f\\\\x1f\\\\x1f', 106), ('f\\\\x1f\\\\x1f\\\\x1', 106), ('f\\\\x1f\\\\x1f\\\\x1f', 106), ('2222222222222222222222222', 104), ('\\\\x1f\\\\x1f\\\\x1f\\\\x1f\\\\', 104), ('\\\\x1f\\\\x1f\\\\x1f\\\\x1f\\\\x', 104), ('x1f\\\\x1f\\\\x1f\\\\x1f\\\\', 104), ('x1f\\\\x1f\\\\x1f\\\\x1f\\\\x', 104), ('1f\\\\x1f\\\\x1f\\\\x1f\\\\', 104), ('1f\\\\x1f\\\\x1f\\\\x1f\\\\x', 104), ('f\\\\x1f\\\\x1f\\\\x1f\\\\', 104), ('f\\\\x1f\\\\x1f\\\\x1f\\\\x', 104), ('\\\\x1f\\\\x1f\\\\x1f\\\\x1f\\\\x1', 102), ('\\\\x1f\\\\x1f\\\\x1f\\\\x1f\\\\x1f', 102), ('x1f\\\\x1f\\\\x1f\\\\x1f\\\\x1', 102), ('x1f\\\\x1f\\\\x1f\\\\x1f\\\\x1f', 102), ('1f\\\\x1f\\\\x1f\\\\x1f\\\\x1', 102), ('1f\\\\x1f\\\\x1f\\\\x1f\\\\x1f', 102), ('f\\\\x1f\\\\x1f\\\\x1f\\\\x1', 102), ('f\\\\x1f\\\\x1f\\\\x1f\\\\x1f', 102), ('22222222222222222222222222', 100)]\n"
     ]
    }
   ],
   "source": [
    ""
   ]
  },
  {
   "cell_type": "code",
   "execution_count": 5,
   "metadata": {},
   "outputs": [],
   "source": [
    "import unicodedata\n",
    "def remove_control_characters(s):\n",
    "    return \"\".join(ch for ch in s if unicodedata.category(ch)[0]!=\"C\")"
   ]
  },
  {
   "cell_type": "code",
   "execution_count": 10,
   "metadata": {},
   "outputs": [
    {
     "data": {
      "text/plain": [
       "''"
      ]
     },
     "execution_count": 10,
     "metadata": {},
     "output_type": "execute_result"
    }
   ],
   "source": [
    "v.replace(\"\\\\x00\",\"\")"
   ]
  },
  {
   "cell_type": "code",
   "execution_count": 25,
   "metadata": {},
   "outputs": [
    {
     "data": {
      "text/plain": [
       "'\\x00'"
      ]
     },
     "execution_count": 25,
     "metadata": {},
     "output_type": "execute_result"
    }
   ],
   "source": [
    "chr(0)"
   ]
  },
  {
   "cell_type": "code",
   "execution_count": 21,
   "metadata": {},
   "outputs": [],
   "source": [
    "def strip_control_characters(input):\n",
    "    if input:\n",
    "\n",
    "        import re\n",
    "\n",
    "        # unicode invalid characters\n",
    "        RE_XML_ILLEGAL = u'([\\u0000-\\u0008\\u000b-\\u000c\\u000e-\\u001f\\ufffe-\\uffff])' + \\\n",
    "                         u'|' + \\\n",
    "                         u'([%s-%s][^%s-%s])|([^%s-%s][%s-%s])|([%s-%s]$)|(^[%s-%s])' % \\\n",
    "                          (chr(0xd800),chr(0xdbff),chr(0xdc00),chr(0xdfff),\n",
    "                           chr(0xd800),chr(0xdbff),chr(0xdc00),chr(0xdfff),\n",
    "                           chr(0xd800),chr(0xdbff),chr(0xdc00),chr(0xdfff),\n",
    "                           )\n",
    "        input = re.sub(RE_XML_ILLEGAL, \"\", input)\n",
    "        # ascii control characters\n",
    "        input = re.sub(r\"[\\x01-\\x1F\\x7F]\", \"\", input)\n",
    "\n",
    "    return input"
   ]
  },
  {
   "cell_type": "code",
   "execution_count": 16,
   "metadata": {
    "collapsed": false
   },
   "outputs": [
    {
     "data": {
      "text/plain": [
       "4208808"
      ]
     },
     "execution_count": 16,
     "metadata": {},
     "output_type": "execute_result"
    }
   ],
   "source": [
    " from sys import getsizeof\n",
    " getsizeof(cnts_sort)"
   ]
  },
  {
   "cell_type": "code",
   "execution_count": 6,
   "metadata": {},
   "outputs": [],
   "source": [
    "conn.download_file(bucket_name, '00000f461abe9dfecac5558777ed3a1be4d014f57a6109a6519c73055e38b818_2053519.tar', '00000f461abe9dfecac5558777ed3a1be4d014f57a6109a6519c73055e38b818_2053519.tar')"
   ]
  }
 ],
 "metadata": {
  "kernelspec": {
   "display_name": "Python 3",
   "language": "python",
   "name": "python3"
  },
  "language_info": {
   "codemirror_mode": {
    "name": "ipython",
    "version": 3
   },
   "file_extension": ".py",
   "mimetype": "text/x-python",
   "name": "python",
   "nbconvert_exporter": "python",
   "pygments_lexer": "ipython3",
   "version": "3.6.2"
  }
 },
 "nbformat": 4,
 "nbformat_minor": 1
}
