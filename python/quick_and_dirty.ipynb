{
 "cells": [
  {
   "cell_type": "markdown",
   "metadata": {},
   "source": [
    "### Read Credentials From File"
   ]
  },
  {
   "cell_type": "code",
   "execution_count": 1,
   "metadata": {},
   "outputs": [],
   "source": [
    "import configparser\n",
    "configs = configparser.ConfigParser()\n",
    "configs.read(\"cred.ini\")\n",
    "access_key = configs.get(\"Info\", \"ACCESS_KEY\")\n",
    "secret_key = configs.get(\"Info\", \"SECRET_KEY\")\n",
    "bucket_name = configs.get(\"Info\",\"BUCKET\")\n",
    "host_region = configs.get(\"Info\",\"HOST_REGION\")\n"
   ]
  },
  {
   "cell_type": "markdown",
   "metadata": {},
   "source": [
    "### Initial Connection to S3"
   ]
  },
  {
   "cell_type": "code",
   "execution_count": 2,
   "metadata": {},
   "outputs": [],
   "source": [
    "# from boto.s3.connection import S3Connection\n",
    "from botocore.config import Config\n",
    "import boto3\n",
    "\n",
    "# conn = S3Connection(access_key, secret_key,host=host_region,proxy='127.0.0.1'.encode(),proxy_port='3128')\n",
    "conn = boto3.client('s3',aws_access_key_id=access_key,\n",
    "                    aws_secret_access_key=secret_key,\n",
    "                    region_name='us-east-2'\n",
    "                    ,config=Config(proxies={'https': 'localhost:3128'})\n",
    "                    )\n"
   ]
  },
  {
   "cell_type": "code",
   "execution_count": 3,
   "metadata": {
    "collapsed": true
   },
   "outputs": [
    {
     "data": {
      "text/plain": [
       "1000"
      ]
     },
     "execution_count": 3,
     "metadata": {},
     "output_type": "execute_result"
    }
   ],
   "source": [
    "file_list = list(conn.list_objects(Bucket=bucket_name)['Contents'])\n",
    "len(file_list)"
   ]
  },
  {
   "cell_type": "code",
   "execution_count": 13,
   "metadata": {},
   "outputs": [
    {
     "name": "stdout",
     "output_type": "stream",
     "text": [
      "Time elasped:  37.35899996757507\nEstimated Time:  3735899.9967575073\n"
     ]
    }
   ],
   "source": [
    "from StringCounter import *\n",
    "import time\n",
    "t1 = time.time()\n",
    "obj = conn.get_object(Bucket=bucket_name, Key=file_list[0]['Key'])\n",
    "content = extractFileContent(obj)\n",
    "cnts = countContent(content,8,30)\n",
    "t2 = time.time()\n",
    "delta = t2-t1\n",
    "print(\"Time elasped: \", delta)\n",
    "print(\"Estimated Time: \", delta*100000)"
   ]
  },
  {
   "cell_type": "code",
   "execution_count": 31,
   "metadata": {},
   "outputs": [
    {
     "name": "stdout",
     "output_type": "stream",
     "text": [
      "b'<html>\\r\\n<link rel=stylesheet href=\"../form.css\" type=\"text/css\" >\\r\\n <script>parent.timer_reset = 1;</script>\\r\\n<head>\\r\\n\\t<script src=\"../../DataStore/Safeguard.js\" type=\"text/javascript\"></sc\n"
     ]
    }
   ],
   "source": [
    "print(content[0:200])"
   ]
  },
  {
   "cell_type": "code",
   "execution_count": 14,
   "metadata": {
    "collapsed": true
   },
   "outputs": [
    {
     "data": {
      "text/plain": [
       "18684105"
      ]
     },
     "execution_count": 14,
     "metadata": {},
     "output_type": "execute_result"
    }
   ],
   "source": [
    "len(cnts)"
   ]
  },
  {
   "cell_type": "code",
   "execution_count": 16,
   "metadata": {},
   "outputs": [],
   "source": [
    "c2 = content.split(\"\\\\r\\\\n\")"
   ]
  },
  {
   "cell_type": "code",
   "execution_count": 6,
   "metadata": {},
   "outputs": [],
   "source": [
    "import operator\n",
    "cnts2 = {k: v for k, v in cnts.items() if v > 1}\n",
    "cnts_sort = sorted(cnts2.items(), key=operator.itemgetter(1),reverse=True)"
   ]
  },
  {
   "cell_type": "code",
   "execution_count": 9,
   "metadata": {},
   "outputs": [
    {
     "data": {
      "text/plain": [
       "1005197"
      ]
     },
     "execution_count": 9,
     "metadata": {},
     "output_type": "execute_result"
    }
   ],
   "source": [
    "len(cnts_sort)"
   ]
  },
  {
   "cell_type": "code",
   "execution_count": 6,
   "metadata": {},
   "outputs": [],
   "source": [
    "conn.download_file(bucket_name, '00000f461abe9dfecac5558777ed3a1be4d014f57a6109a6519c73055e38b818_2053519.tar', '00000f461abe9dfecac5558777ed3a1be4d014f57a6109a6519c73055e38b818_2053519.tar')"
   ]
  },
  {
   "cell_type": "code",
   "execution_count": 8,
   "metadata": {},
   "outputs": [],
   "source": [
    "t= \" asd\"\n",
    "if not t[0:1] in [' ','\\t', '\\r', '\\n']:\n",
    "    print(\"HEY\")"
   ]
  },
  {
   "cell_type": "code",
   "execution_count": 12,
   "metadata": {},
   "outputs": [
    {
     "ename": "NameError",
     "evalue": "name 'cnts' is not defined",
     "traceback": [
      "\u001b[0;31m---------------------------------------------------------------------------\u001b[0m",
      "\u001b[0;31mNameError\u001b[0m                                 Traceback (most recent call last)",
      "\u001b[0;32m<ipython-input-12-155dba56d927>\u001b[0m in \u001b[0;36m<module>\u001b[0;34m()\u001b[0m\n\u001b[0;32m----> 1\u001b[0;31m \u001b[0;32mdel\u001b[0m \u001b[0mcnts\u001b[0m\u001b[0;34m\u001b[0m\u001b[0m\n\u001b[0m",
      "\u001b[0;31mNameError\u001b[0m: name 'cnts' is not defined"
     ],
     "output_type": "error"
    }
   ],
   "source": [
    ""
   ]
  },
  {
   "cell_type": "code",
   "execution_count": null,
   "metadata": {},
   "outputs": [],
   "source": []
  }
 ],
 "metadata": {
  "kernelspec": {
   "display_name": "Python 3",
   "language": "python",
   "name": "python3"
  },
  "language_info": {
   "codemirror_mode": {
    "name": "ipython",
    "version": 3
   },
   "file_extension": ".py",
   "mimetype": "text/x-python",
   "name": "python",
   "nbconvert_exporter": "python",
   "pygments_lexer": "ipython3",
   "version": "3.6.2"
  }
 },
 "nbformat": 4,
 "nbformat_minor": 1
}
