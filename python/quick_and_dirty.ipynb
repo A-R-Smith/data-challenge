{
 "cells": [
  {
   "cell_type": "markdown",
   "metadata": {},
   "source": [
    "### Read Credentials From File"
   ]
  },
  {
   "cell_type": "code",
   "execution_count": 1,
   "metadata": {},
   "outputs": [],
   "source": [
    "import configparser\n",
    "configs = configparser.ConfigParser()\n",
    "configs.read(\"cred.ini\")\n",
    "access_key = configs.get(\"Info\", \"ACCESS_KEY\")\n",
    "secret_key = configs.get(\"Info\", \"SECRET_KEY\")\n",
    "bucket_name = configs.get(\"Info\",\"BUCKET\")\n",
    "host_region = configs.get(\"Info\",\"HOST_REGION\")\n"
   ]
  },
  {
   "cell_type": "markdown",
   "metadata": {},
   "source": [
    "### Initial Connection to S3"
   ]
  },
  {
   "cell_type": "code",
   "execution_count": 2,
   "metadata": {},
   "outputs": [],
   "source": [
    "# from boto.s3.connection import S3Connection\n",
    "from botocore.config import Config\n",
    "import boto3\n",
    "\n",
    "# conn = S3Connection(access_key, secret_key,host=host_region,proxy='127.0.0.1'.encode(),proxy_port='3128')\n",
    "conn = boto3.client('s3',aws_access_key_id=access_key,\n",
    "                    aws_secret_access_key=secret_key,\n",
    "                    region_name='us-east-2'\n",
    "                    ,config=Config(proxies={'https': 'localhost:3128'})\n",
    "                    )\n"
   ]
  },
  {
   "cell_type": "code",
   "execution_count": 3,
   "metadata": {
    "collapsed": true
   },
   "outputs": [
    {
     "data": {
      "text/plain": [
       "1000"
      ]
     },
     "execution_count": 3,
     "metadata": {},
     "output_type": "execute_result"
    }
   ],
   "source": [
    "file_list = list(conn.list_objects(Bucket=bucket_name)['Contents'])\n",
    "len(file_list)"
   ]
  },
  {
   "cell_type": "code",
   "execution_count": 4,
   "metadata": {},
   "outputs": [
    {
     "name": "stdout",
     "output_type": "stream",
     "text": [
      "Time elasped:  34.47000026702881\nEstimated Time:  3447000.026702881\n"
     ]
    }
   ],
   "source": [
    "from StringCounter import *\n",
    "import time\n",
    "t1 = time.time()\n",
    "obj = conn.get_object(Bucket=bucket_name, Key=file_list[0]['Key'])\n",
    "content = extractFileContent(obj)\n",
    "cnts = countContent(content,8,30)\n",
    "t2 = time.time()\n",
    "delta = t2-t1\n",
    "print(\"Time elasped: \", delta)\n",
    "print(\"Estimated Time: \", delta*100000)"
   ]
  },
  {
   "cell_type": "code",
   "execution_count": 31,
   "metadata": {},
   "outputs": [
    {
     "name": "stdout",
     "output_type": "stream",
     "text": [
      "b'<html>\\r\\n<link rel=stylesheet href=\"../form.css\" type=\"text/css\" >\\r\\n <script>parent.timer_reset = 1;</script>\\r\\n<head>\\r\\n\\t<script src=\"../../DataStore/Safeguard.js\" type=\"text/javascript\"></sc\n"
     ]
    }
   ],
   "source": [
    "print(content[0:200])"
   ]
  },
  {
   "cell_type": "code",
   "execution_count": 14,
   "metadata": {
    "collapsed": true
   },
   "outputs": [
    {
     "data": {
      "text/plain": [
       "{\"b'<html>\": 1,\n '<link re': 1,\n '<link rel': 1,\n '<link rel=': 1,\n '<link rel=s': 1,\n '<link rel=st': 1,\n '<link rel=sty': 1,\n '<link rel=styl': 1,\n '<link rel=style': 1,\n '<link rel=styles': 1,\n '<link rel=stylesh': 1,\n '<link rel=styleshe': 1,\n '<link rel=styleshee': 1,\n '<link rel=stylesheet': 1,\n '<link rel=stylesheet ': 1,\n '<link rel=stylesheet h': 1,\n '<link rel=stylesheet hr': 1,\n '<link rel=stylesheet hre': 1,\n '<link rel=stylesheet href': 1,\n '<link rel=stylesheet href=': 1,\n '<link rel=stylesheet href=\"': 1,\n '<link rel=stylesheet href=\".': 1,\n '<link rel=stylesheet href=\"..': 1,\n 'link rel': 1,\n 'link rel=': 1,\n 'link rel=s': 1,\n 'link rel=st': 1,\n 'link rel=sty': 1,\n 'link rel=styl': 1,\n 'link rel=style': 1,\n 'link rel=styles': 1,\n 'link rel=stylesh': 1,\n 'link rel=styleshe': 1,\n 'link rel=styleshee': 1,\n 'link rel=stylesheet': 1,\n 'link rel=stylesheet ': 1,\n 'link rel=stylesheet h': 1,\n 'link rel=stylesheet hr': 1,\n 'link rel=stylesheet hre': 1,\n 'link rel=stylesheet href': 1,\n 'link rel=stylesheet href=': 1,\n 'link rel=stylesheet href=\"': 1,\n 'link rel=stylesheet href=\".': 1,\n 'link rel=stylesheet href=\"..': 1,\n 'link rel=stylesheet href=\"../': 1,\n 'ink rel=': 1,\n 'ink rel=s': 1,\n 'ink rel=st': 1,\n 'ink rel=sty': 1,\n 'ink rel=styl': 1,\n 'ink rel=style': 1,\n 'ink rel=styles': 1,\n 'ink rel=stylesh': 1,\n 'ink rel=styleshe': 1,\n 'ink rel=styleshee': 1,\n 'ink rel=stylesheet': 1,\n 'ink rel=stylesheet ': 1,\n 'ink rel=stylesheet h': 1,\n 'ink rel=stylesheet hr': 1,\n 'ink rel=stylesheet hre': 1,\n 'ink rel=stylesheet href': 1,\n 'ink rel=stylesheet href=': 1,\n 'ink rel=stylesheet href=\"': 1,\n 'ink rel=stylesheet href=\".': 1,\n 'ink rel=stylesheet href=\"..': 1,\n 'ink rel=stylesheet href=\"../': 1,\n 'ink rel=stylesheet href=\"../f': 1,\n 'nk rel=s': 1,\n 'nk rel=st': 1,\n 'nk rel=sty': 1,\n 'nk rel=styl': 1,\n 'nk rel=style': 1,\n 'nk rel=styles': 1,\n 'nk rel=stylesh': 1,\n 'nk rel=styleshe': 1,\n 'nk rel=styleshee': 1,\n 'nk rel=stylesheet': 1,\n 'nk rel=stylesheet ': 1,\n 'nk rel=stylesheet h': 1,\n 'nk rel=stylesheet hr': 1,\n 'nk rel=stylesheet hre': 1,\n 'nk rel=stylesheet href': 1,\n 'nk rel=stylesheet href=': 1,\n 'nk rel=stylesheet href=\"': 1,\n 'nk rel=stylesheet href=\".': 1,\n 'nk rel=stylesheet href=\"..': 1,\n 'nk rel=stylesheet href=\"../': 1,\n 'nk rel=stylesheet href=\"../f': 1,\n 'nk rel=stylesheet href=\"../fo': 1,\n 'k rel=st': 1,\n 'k rel=sty': 1,\n 'k rel=styl': 1,\n 'k rel=style': 1,\n 'k rel=styles': 1,\n 'k rel=stylesh': 1,\n 'k rel=styleshe': 1,\n 'k rel=styleshee': 1,\n 'k rel=stylesheet': 1,\n 'k rel=stylesheet ': 1,\n 'k rel=stylesheet h': 1,\n 'k rel=stylesheet hr': 1,\n 'k rel=stylesheet hre': 1,\n 'k rel=stylesheet href': 1,\n 'k rel=stylesheet href=': 1,\n 'k rel=stylesheet href=\"': 1,\n 'k rel=stylesheet href=\".': 1,\n 'k rel=stylesheet href=\"..': 1,\n 'k rel=stylesheet href=\"../': 1,\n 'k rel=stylesheet href=\"../f': 1,\n 'k rel=stylesheet href=\"../fo': 1,\n 'k rel=stylesheet href=\"../for': 1,\n ' rel=sty': 1,\n ' rel=styl': 1,\n ' rel=style': 1,\n ' rel=styles': 1,\n ' rel=stylesh': 1,\n ' rel=styleshe': 1,\n ' rel=styleshee': 1,\n ' rel=stylesheet': 1,\n ' rel=stylesheet ': 1,\n ' rel=stylesheet h': 1,\n ' rel=stylesheet hr': 1,\n ' rel=stylesheet hre': 1,\n ' rel=stylesheet href': 1,\n ' rel=stylesheet href=': 1,\n ' rel=stylesheet href=\"': 1,\n ' rel=stylesheet href=\".': 1,\n ' rel=stylesheet href=\"..': 1,\n ' rel=stylesheet href=\"../': 1,\n ' rel=stylesheet href=\"../f': 1,\n ' rel=stylesheet href=\"../fo': 1,\n ' rel=stylesheet href=\"../for': 1,\n ' rel=stylesheet href=\"../form': 1,\n 'rel=styl': 1,\n 'rel=style': 1,\n 'rel=styles': 1,\n 'rel=stylesh': 1,\n 'rel=styleshe': 1,\n 'rel=styleshee': 1,\n 'rel=stylesheet': 1,\n 'rel=stylesheet ': 1,\n 'rel=stylesheet h': 1,\n 'rel=stylesheet hr': 1,\n 'rel=stylesheet hre': 1,\n 'rel=stylesheet href': 1,\n 'rel=stylesheet href=': 1,\n 'rel=stylesheet href=\"': 1,\n 'rel=stylesheet href=\".': 1,\n 'rel=stylesheet href=\"..': 1,\n 'rel=stylesheet href=\"../': 1,\n 'rel=stylesheet href=\"../f': 1,\n 'rel=stylesheet href=\"../fo': 1,\n 'rel=stylesheet href=\"../for': 1,\n 'rel=stylesheet href=\"../form': 1,\n 'rel=stylesheet href=\"../form.': 1,\n 'el=style': 1,\n 'el=styles': 1,\n 'el=stylesh': 1,\n 'el=styleshe': 1,\n 'el=styleshee': 1,\n 'el=stylesheet': 1,\n 'el=stylesheet ': 1,\n 'el=stylesheet h': 1,\n 'el=stylesheet hr': 1,\n 'el=stylesheet hre': 1,\n 'el=stylesheet href': 1,\n 'el=stylesheet href=': 1,\n 'el=stylesheet href=\"': 1,\n 'el=stylesheet href=\".': 1,\n 'el=stylesheet href=\"..': 1,\n 'el=stylesheet href=\"../': 1,\n 'el=stylesheet href=\"../f': 1,\n 'el=stylesheet href=\"../fo': 1,\n 'el=stylesheet href=\"../for': 1,\n 'el=stylesheet href=\"../form': 1,\n 'el=stylesheet href=\"../form.': 1,\n 'el=stylesheet href=\"../form.c': 1,\n 'l=styles': 1,\n 'l=stylesh': 1,\n 'l=styleshe': 1,\n 'l=styleshee': 1,\n 'l=stylesheet': 1,\n 'l=stylesheet ': 1,\n 'l=stylesheet h': 1,\n 'l=stylesheet hr': 1,\n 'l=stylesheet hre': 1,\n 'l=stylesheet href': 1,\n 'l=stylesheet href=': 1,\n 'l=stylesheet href=\"': 1,\n 'l=stylesheet href=\".': 1,\n 'l=stylesheet href=\"..': 1,\n 'l=stylesheet href=\"../': 1,\n 'l=stylesheet href=\"../f': 1,\n 'l=stylesheet href=\"../fo': 1,\n 'l=stylesheet href=\"../for': 1,\n 'l=stylesheet href=\"../form': 1,\n 'l=stylesheet href=\"../form.': 1,\n 'l=stylesheet href=\"../form.c': 1,\n 'l=stylesheet href=\"../form.cs': 1,\n '=stylesh': 1,\n '=styleshe': 1,\n '=styleshee': 1,\n '=stylesheet': 1,\n '=stylesheet ': 1,\n '=stylesheet h': 1,\n '=stylesheet hr': 1,\n '=stylesheet hre': 1,\n '=stylesheet href': 1,\n '=stylesheet href=': 1,\n '=stylesheet href=\"': 1,\n '=stylesheet href=\".': 1,\n '=stylesheet href=\"..': 1,\n '=stylesheet href=\"../': 1,\n '=stylesheet href=\"../f': 1,\n '=stylesheet href=\"../fo': 1,\n '=stylesheet href=\"../for': 1,\n '=stylesheet href=\"../form': 1,\n '=stylesheet href=\"../form.': 1,\n '=stylesheet href=\"../form.c': 1,\n '=stylesheet href=\"../form.cs': 1,\n '=stylesheet href=\"../form.css': 1,\n 'styleshe': 1,\n 'styleshee': 1,\n 'stylesheet': 1,\n 'stylesheet ': 1,\n 'stylesheet h': 1,\n 'stylesheet hr': 1,\n 'stylesheet hre': 1,\n 'stylesheet href': 1,\n 'stylesheet href=': 1,\n 'stylesheet href=\"': 1,\n 'stylesheet href=\".': 1,\n 'stylesheet href=\"..': 1,\n 'stylesheet href=\"../': 1,\n 'stylesheet href=\"../f': 1,\n 'stylesheet href=\"../fo': 1,\n 'stylesheet href=\"../for': 1,\n 'stylesheet href=\"../form': 1,\n 'stylesheet href=\"../form.': 1,\n 'stylesheet href=\"../form.c': 1,\n 'stylesheet href=\"../form.cs': 1,\n 'stylesheet href=\"../form.css': 1,\n 'stylesheet href=\"../form.css\"': 1,\n 'tyleshee': 1,\n 'tylesheet': 1,\n 'tylesheet ': 1,\n 'tylesheet h': 1,\n 'tylesheet hr': 1,\n 'tylesheet hre': 1,\n 'tylesheet href': 1,\n 'tylesheet href=': 1,\n 'tylesheet href=\"': 1,\n 'tylesheet href=\".': 1,\n 'tylesheet href=\"..': 1,\n 'tylesheet href=\"../': 1,\n 'tylesheet href=\"../f': 1,\n 'tylesheet href=\"../fo': 1,\n 'tylesheet href=\"../for': 1,\n 'tylesheet href=\"../form': 1,\n 'tylesheet href=\"../form.': 1,\n 'tylesheet href=\"../form.c': 1,\n 'tylesheet href=\"../form.cs': 1,\n 'tylesheet href=\"../form.css': 1,\n 'tylesheet href=\"../form.css\"': 1,\n 'tylesheet href=\"../form.css\" ': 1,\n 'ylesheet': 1,\n 'ylesheet ': 1,\n 'ylesheet h': 1,\n 'ylesheet hr': 1,\n 'ylesheet hre': 1,\n 'ylesheet href': 1,\n 'ylesheet href=': 1,\n 'ylesheet href=\"': 1,\n 'ylesheet href=\".': 1,\n 'ylesheet href=\"..': 1,\n 'ylesheet href=\"../': 1,\n 'ylesheet href=\"../f': 1,\n 'ylesheet href=\"../fo': 1,\n 'ylesheet href=\"../for': 1,\n 'ylesheet href=\"../form': 1,\n 'ylesheet href=\"../form.': 1,\n 'ylesheet href=\"../form.c': 1,\n 'ylesheet href=\"../form.cs': 1,\n 'ylesheet href=\"../form.css': 1,\n 'ylesheet href=\"../form.css\"': 1,\n 'ylesheet href=\"../form.css\" ': 1,\n 'ylesheet href=\"../form.css\" t': 1,\n 'lesheet ': 1,\n 'lesheet h': 1,\n 'lesheet hr': 1,\n 'lesheet hre': 1,\n 'lesheet href': 1,\n 'lesheet href=': 1,\n 'lesheet href=\"': 1,\n 'lesheet href=\".': 1,\n 'lesheet href=\"..': 1,\n 'lesheet href=\"../': 1,\n 'lesheet href=\"../f': 1,\n 'lesheet href=\"../fo': 1,\n 'lesheet href=\"../for': 1,\n 'lesheet href=\"../form': 1,\n 'lesheet href=\"../form.': 1,\n 'lesheet href=\"../form.c': 1,\n 'lesheet href=\"../form.cs': 1,\n 'lesheet href=\"../form.css': 1,\n 'lesheet href=\"../form.css\"': 1,\n 'lesheet href=\"../form.css\" ': 1,\n 'lesheet href=\"../form.css\" t': 1,\n 'lesheet href=\"../form.css\" ty': 1,\n 'esheet h': 1,\n 'esheet hr': 1,\n 'esheet hre': 1,\n 'esheet href': 1,\n 'esheet href=': 1,\n 'esheet href=\"': 1,\n 'esheet href=\".': 1,\n 'esheet href=\"..': 1,\n 'esheet href=\"../': 1,\n 'esheet href=\"../f': 1,\n 'esheet href=\"../fo': 1,\n 'esheet href=\"../for': 1,\n 'esheet href=\"../form': 1,\n 'esheet href=\"../form.': 1,\n 'esheet href=\"../form.c': 1,\n 'esheet href=\"../form.cs': 1,\n 'esheet href=\"../form.css': 1,\n 'esheet href=\"../form.css\"': 1,\n 'esheet href=\"../form.css\" ': 1,\n 'esheet href=\"../form.css\" t': 1,\n 'esheet href=\"../form.css\" ty': 1,\n 'esheet href=\"../form.css\" typ': 1,\n 'sheet hr': 1,\n 'sheet hre': 1,\n 'sheet href': 1,\n 'sheet href=': 1,\n 'sheet href=\"': 1,\n 'sheet href=\".': 1,\n 'sheet href=\"..': 1,\n 'sheet href=\"../': 1,\n 'sheet href=\"../f': 1,\n 'sheet href=\"../fo': 1,\n 'sheet href=\"../for': 1,\n 'sheet href=\"../form': 1,\n 'sheet href=\"../form.': 1,\n 'sheet href=\"../form.c': 1,\n 'sheet href=\"../form.cs': 1,\n 'sheet href=\"../form.css': 1,\n 'sheet href=\"../form.css\"': 1,\n 'sheet href=\"../form.css\" ': 1,\n 'sheet href=\"../form.css\" t': 1,\n 'sheet href=\"../form.css\" ty': 1,\n 'sheet href=\"../form.css\" typ': 1,\n 'sheet href=\"../form.css\" type': 1,\n 'heet hre': 1,\n 'heet href': 1,\n 'heet href=': 1,\n 'heet href=\"': 1,\n 'heet href=\".': 1,\n 'heet href=\"..': 1,\n 'heet href=\"../': 1,\n 'heet href=\"../f': 1,\n 'heet href=\"../fo': 1,\n 'heet href=\"../for': 1,\n 'heet href=\"../form': 1,\n 'heet href=\"../form.': 1,\n 'heet href=\"../form.c': 1,\n 'heet href=\"../form.cs': 1,\n 'heet href=\"../form.css': 1,\n 'heet href=\"../form.css\"': 1,\n 'heet href=\"../form.css\" ': 1,\n 'heet href=\"../form.css\" t': 1,\n 'heet href=\"../form.css\" ty': 1,\n 'heet href=\"../form.css\" typ': 1,\n 'heet href=\"../form.css\" type': 1,\n 'heet href=\"../form.css\" type=': 1,\n 'eet href': 1,\n 'eet href=': 1,\n 'eet href=\"': 1,\n 'eet href=\".': 1,\n 'eet href=\"..': 1,\n 'eet href=\"../': 1,\n 'eet href=\"../f': 1,\n 'eet href=\"../fo': 1,\n 'eet href=\"../for': 1,\n 'eet href=\"../form': 1,\n 'eet href=\"../form.': 1,\n 'eet href=\"../form.c': 1,\n 'eet href=\"../form.cs': 1,\n 'eet href=\"../form.css': 1,\n 'eet href=\"../form.css\"': 1,\n 'eet href=\"../form.css\" ': 1,\n 'eet href=\"../form.css\" t': 1,\n 'eet href=\"../form.css\" ty': 1,\n 'eet href=\"../form.css\" typ': 1,\n 'eet href=\"../form.css\" type': 1,\n 'eet href=\"../form.css\" type=': 1,\n 'eet href=\"../form.css\" type=\"': 1,\n 'et href=': 1,\n 'et href=\"': 1,\n 'et href=\".': 1,\n 'et href=\"..': 1,\n 'et href=\"../': 1,\n 'et href=\"../f': 1,\n 'et href=\"../fo': 1,\n 'et href=\"../for': 1,\n 'et href=\"../form': 1,\n 'et href=\"../form.': 1,\n 'et href=\"../form.c': 1,\n 'et href=\"../form.cs': 1,\n 'et href=\"../form.css': 1,\n 'et href=\"../form.css\"': 1,\n 'et href=\"../form.css\" ': 1,\n 'et href=\"../form.css\" t': 1,\n 'et href=\"../form.css\" ty': 1,\n 'et href=\"../form.css\" typ': 1,\n 'et href=\"../form.css\" type': 1,\n 'et href=\"../form.css\" type=': 1,\n 'et href=\"../form.css\" type=\"': 1,\n 'et href=\"../form.css\" type=\"t': 1,\n 't href=\"': 1,\n 't href=\".': 1,\n 't href=\"..': 1,\n 't href=\"../': 1,\n 't href=\"../f': 1,\n 't href=\"../fo': 1,\n 't href=\"../for': 1,\n 't href=\"../form': 1,\n 't href=\"../form.': 1,\n 't href=\"../form.c': 1,\n 't href=\"../form.cs': 1,\n 't href=\"../form.css': 1,\n 't href=\"../form.css\"': 1,\n 't href=\"../form.css\" ': 1,\n 't href=\"../form.css\" t': 1,\n 't href=\"../form.css\" ty': 1,\n 't href=\"../form.css\" typ': 1,\n 't href=\"../form.css\" type': 1,\n 't href=\"../form.css\" type=': 1,\n 't href=\"../form.css\" type=\"': 1,\n 't href=\"../form.css\" type=\"t': 1,\n 't href=\"../form.css\" type=\"te': 1,\n ' href=\".': 1,\n ' href=\"..': 1,\n ' href=\"../': 1,\n ' href=\"../f': 1,\n ' href=\"../fo': 1,\n ' href=\"../for': 1,\n ' href=\"../form': 1,\n ' href=\"../form.': 1,\n ' href=\"../form.c': 1,\n ' href=\"../form.cs': 1,\n ' href=\"../form.css': 1,\n ' href=\"../form.css\"': 1,\n ' href=\"../form.css\" ': 1,\n ' href=\"../form.css\" t': 1,\n ' href=\"../form.css\" ty': 1,\n ' href=\"../form.css\" typ': 1,\n ' href=\"../form.css\" type': 1,\n ' href=\"../form.css\" type=': 1,\n ' href=\"../form.css\" type=\"': 1,\n ' href=\"../form.css\" type=\"t': 1,\n ' href=\"../form.css\" type=\"te': 1,\n ' href=\"../form.css\" type=\"tex': 1,\n 'href=\"..': 1,\n 'href=\"../': 1,\n 'href=\"../f': 1,\n 'href=\"../fo': 1,\n 'href=\"../for': 1,\n 'href=\"../form': 1,\n 'href=\"../form.': 1,\n 'href=\"../form.c': 1,\n 'href=\"../form.cs': 1,\n 'href=\"../form.css': 1,\n 'href=\"../form.css\"': 1,\n 'href=\"../form.css\" ': 1,\n 'href=\"../form.css\" t': 1,\n 'href=\"../form.css\" ty': 1,\n 'href=\"../form.css\" typ': 1,\n 'href=\"../form.css\" type': 1,\n 'href=\"../form.css\" type=': 1,\n 'href=\"../form.css\" type=\"': 1,\n 'href=\"../form.css\" type=\"t': 1,\n 'href=\"../form.css\" type=\"te': 1,\n 'href=\"../form.css\" type=\"tex': 1,\n 'href=\"../form.css\" type=\"text': 1,\n 'ref=\"../': 1,\n 'ref=\"../f': 1,\n 'ref=\"../fo': 1,\n 'ref=\"../for': 1,\n 'ref=\"../form': 1,\n 'ref=\"../form.': 1,\n 'ref=\"../form.c': 1,\n 'ref=\"../form.cs': 1,\n 'ref=\"../form.css': 1,\n 'ref=\"../form.css\"': 1,\n 'ref=\"../form.css\" ': 1,\n 'ref=\"../form.css\" t': 1,\n 'ref=\"../form.css\" ty': 1,\n 'ref=\"../form.css\" typ': 1,\n 'ref=\"../form.css\" type': 1,\n 'ref=\"../form.css\" type=': 1,\n 'ref=\"../form.css\" type=\"': 1,\n 'ref=\"../form.css\" type=\"t': 1,\n 'ref=\"../form.css\" type=\"te': 1,\n 'ref=\"../form.css\" type=\"tex': 1,\n 'ref=\"../form.css\" type=\"text': 1,\n 'ref=\"../form.css\" type=\"text/': 1,\n 'ef=\"../f': 1,\n 'ef=\"../fo': 1,\n 'ef=\"../for': 1,\n 'ef=\"../form': 1,\n 'ef=\"../form.': 1,\n 'ef=\"../form.c': 1,\n 'ef=\"../form.cs': 1,\n 'ef=\"../form.css': 1,\n 'ef=\"../form.css\"': 1,\n 'ef=\"../form.css\" ': 1,\n 'ef=\"../form.css\" t': 1,\n 'ef=\"../form.css\" ty': 1,\n 'ef=\"../form.css\" typ': 1,\n 'ef=\"../form.css\" type': 1,\n 'ef=\"../form.css\" type=': 1,\n 'ef=\"../form.css\" type=\"': 1,\n 'ef=\"../form.css\" type=\"t': 1,\n 'ef=\"../form.css\" type=\"te': 1,\n 'ef=\"../form.css\" type=\"tex': 1,\n 'ef=\"../form.css\" type=\"text': 1,\n 'ef=\"../form.css\" type=\"text/': 1,\n 'ef=\"../form.css\" type=\"text/c': 1,\n 'f=\"../fo': 1,\n 'f=\"../for': 1,\n 'f=\"../form': 1,\n 'f=\"../form.': 1,\n 'f=\"../form.c': 1,\n 'f=\"../form.cs': 1,\n 'f=\"../form.css': 1,\n 'f=\"../form.css\"': 1,\n 'f=\"../form.css\" ': 1,\n 'f=\"../form.css\" t': 1,\n 'f=\"../form.css\" ty': 1,\n 'f=\"../form.css\" typ': 1,\n 'f=\"../form.css\" type': 1,\n 'f=\"../form.css\" type=': 1,\n 'f=\"../form.css\" type=\"': 1,\n 'f=\"../form.css\" type=\"t': 1,\n 'f=\"../form.css\" type=\"te': 1,\n 'f=\"../form.css\" type=\"tex': 1,\n 'f=\"../form.css\" type=\"text': 1,\n 'f=\"../form.css\" type=\"text/': 1,\n 'f=\"../form.css\" type=\"text/c': 1,\n 'f=\"../form.css\" type=\"text/cs': 1,\n '=\"../for': 1,\n '=\"../form': 1,\n '=\"../form.': 1,\n '=\"../form.c': 1,\n '=\"../form.cs': 1,\n '=\"../form.css': 1,\n '=\"../form.css\"': 1,\n '=\"../form.css\" ': 1,\n '=\"../form.css\" t': 1,\n '=\"../form.css\" ty': 1,\n '=\"../form.css\" typ': 1,\n '=\"../form.css\" type': 1,\n '=\"../form.css\" type=': 1,\n '=\"../form.css\" type=\"': 1,\n '=\"../form.css\" type=\"t': 1,\n '=\"../form.css\" type=\"te': 1,\n '=\"../form.css\" type=\"tex': 1,\n '=\"../form.css\" type=\"text': 1,\n '=\"../form.css\" type=\"text/': 1,\n '=\"../form.css\" type=\"text/c': 1,\n '=\"../form.css\" type=\"text/cs': 1,\n '=\"../form.css\" type=\"text/css': 1,\n '\"../form': 1,\n '\"../form.': 1,\n '\"../form.c': 1,\n '\"../form.cs': 1,\n '\"../form.css': 1,\n '\"../form.css\"': 1,\n '\"../form.css\" ': 1,\n '\"../form.css\" t': 1,\n '\"../form.css\" ty': 1,\n '\"../form.css\" typ': 1,\n '\"../form.css\" type': 1,\n '\"../form.css\" type=': 1,\n '\"../form.css\" type=\"': 1,\n '\"../form.css\" type=\"t': 1,\n '\"../form.css\" type=\"te': 1,\n '\"../form.css\" type=\"tex': 1,\n '\"../form.css\" type=\"text': 1,\n '\"../form.css\" type=\"text/': 1,\n '\"../form.css\" type=\"text/c': 1,\n '\"../form.css\" type=\"text/cs': 1,\n '\"../form.css\" type=\"text/css': 1,\n '\"../form.css\" type=\"text/css\"': 1,\n '../form.': 1,\n '../form.c': 1,\n '../form.cs': 1,\n '../form.css': 1,\n '../form.css\"': 1,\n '../form.css\" ': 1,\n '../form.css\" t': 1,\n '../form.css\" ty': 1,\n '../form.css\" typ': 1,\n '../form.css\" type': 1,\n '../form.css\" type=': 1,\n '../form.css\" type=\"': 1,\n '../form.css\" type=\"t': 1,\n '../form.css\" type=\"te': 1,\n '../form.css\" type=\"tex': 1,\n '../form.css\" type=\"text': 1,\n '../form.css\" type=\"text/': 1,\n '../form.css\" type=\"text/c': 1,\n '../form.css\" type=\"text/cs': 1,\n '../form.css\" type=\"text/css': 1,\n '../form.css\" type=\"text/css\"': 1,\n '../form.css\" type=\"text/css\" ': 1,\n './form.c': 1,\n './form.cs': 1,\n './form.css': 1,\n './form.css\"': 1,\n './form.css\" ': 1,\n './form.css\" t': 1,\n './form.css\" ty': 1,\n './form.css\" typ': 1,\n './form.css\" type': 1,\n './form.css\" type=': 1,\n './form.css\" type=\"': 1,\n './form.css\" type=\"t': 1,\n './form.css\" type=\"te': 1,\n './form.css\" type=\"tex': 1,\n './form.css\" type=\"text': 1,\n './form.css\" type=\"text/': 1,\n './form.css\" type=\"text/c': 1,\n './form.css\" type=\"text/cs': 1,\n './form.css\" type=\"text/css': 1,\n './form.css\" type=\"text/css\"': 1,\n './form.css\" type=\"text/css\" ': 1,\n './form.css\" type=\"text/css\" >': 1,\n '/form.cs': 1,\n '/form.css': 1,\n '/form.css\"': 1,\n '/form.css\" ': 1,\n '/form.css\" t': 1,\n '/form.css\" ty': 1,\n '/form.css\" typ': 1,\n '/form.css\" type': 1,\n '/form.css\" type=': 1,\n '/form.css\" type=\"': 1,\n '/form.css\" type=\"t': 1,\n '/form.css\" type=\"te': 1,\n '/form.css\" type=\"tex': 1,\n '/form.css\" type=\"text': 1,\n '/form.css\" type=\"text/': 1,\n '/form.css\" type=\"text/c': 1,\n '/form.css\" type=\"text/cs': 1,\n '/form.css\" type=\"text/css': 1,\n '/form.css\" type=\"text/css\"': 1,\n '/form.css\" type=\"text/css\" ': 1,\n '/form.css\" type=\"text/css\" >': 1,\n 'form.css': 1,\n 'form.css\"': 1,\n 'form.css\" ': 1,\n 'form.css\" t': 1,\n 'form.css\" ty': 1,\n 'form.css\" typ': 1,\n 'form.css\" type': 1,\n 'form.css\" type=': 1,\n 'form.css\" type=\"': 1,\n 'form.css\" type=\"t': 1,\n 'form.css\" type=\"te': 1,\n 'form.css\" type=\"tex': 1,\n 'form.css\" type=\"text': 1,\n 'form.css\" type=\"text/': 1,\n 'form.css\" type=\"text/c': 1,\n 'form.css\" type=\"text/cs': 1,\n 'form.css\" type=\"text/css': 1,\n 'form.css\" type=\"text/css\"': 1,\n 'form.css\" type=\"text/css\" ': 1,\n 'form.css\" type=\"text/css\" >': 1,\n 'orm.css\"': 1,\n 'orm.css\" ': 1,\n 'orm.css\" t': 1,\n 'orm.css\" ty': 1,\n 'orm.css\" typ': 1,\n 'orm.css\" type': 1,\n 'orm.css\" type=': 1,\n 'orm.css\" type=\"': 1,\n 'orm.css\" type=\"t': 1,\n 'orm.css\" type=\"te': 1,\n 'orm.css\" type=\"tex': 1,\n 'orm.css\" type=\"text': 1,\n 'orm.css\" type=\"text/': 1,\n 'orm.css\" type=\"text/c': 1,\n 'orm.css\" type=\"text/cs': 1,\n 'orm.css\" type=\"text/css': 1,\n 'orm.css\" type=\"text/css\"': 1,\n 'orm.css\" type=\"text/css\" ': 1,\n 'orm.css\" type=\"text/css\" >': 1,\n 'rm.css\" ': 1,\n 'rm.css\" t': 1,\n 'rm.css\" ty': 1,\n 'rm.css\" typ': 1,\n 'rm.css\" type': 1,\n 'rm.css\" type=': 1,\n 'rm.css\" type=\"': 1,\n 'rm.css\" type=\"t': 1,\n 'rm.css\" type=\"te': 1,\n 'rm.css\" type=\"tex': 1,\n 'rm.css\" type=\"text': 1,\n 'rm.css\" type=\"text/': 1,\n 'rm.css\" type=\"text/c': 1,\n 'rm.css\" type=\"text/cs': 1,\n 'rm.css\" type=\"text/css': 1,\n 'rm.css\" type=\"text/css\"': 1,\n 'rm.css\" type=\"text/css\" ': 1,\n 'rm.css\" type=\"text/css\" >': 1,\n 'm.css\" t': 1,\n 'm.css\" ty': 1,\n 'm.css\" typ': 1,\n 'm.css\" type': 1,\n 'm.css\" type=': 1,\n 'm.css\" type=\"': 1,\n 'm.css\" type=\"t': 1,\n 'm.css\" type=\"te': 1,\n 'm.css\" type=\"tex': 1,\n 'm.css\" type=\"text': 1,\n 'm.css\" type=\"text/': 1,\n 'm.css\" type=\"text/c': 1,\n 'm.css\" type=\"text/cs': 1,\n 'm.css\" type=\"text/css': 1,\n 'm.css\" type=\"text/css\"': 1,\n 'm.css\" type=\"text/css\" ': 1,\n 'm.css\" type=\"text/css\" >': 1,\n '.css\" ty': 1,\n '.css\" typ': 1,\n '.css\" type': 1,\n '.css\" type=': 1,\n '.css\" type=\"': 1,\n '.css\" type=\"t': 1,\n '.css\" type=\"te': 1,\n '.css\" type=\"tex': 1,\n '.css\" type=\"text': 1,\n '.css\" type=\"text/': 1,\n '.css\" type=\"text/c': 1,\n '.css\" type=\"text/cs': 1,\n '.css\" type=\"text/css': 1,\n '.css\" type=\"text/css\"': 1,\n '.css\" type=\"text/css\" ': 1,\n '.css\" type=\"text/css\" >': 1,\n 'css\" typ': 1,\n 'css\" type': 1,\n 'css\" type=': 1,\n 'css\" type=\"': 1,\n 'css\" type=\"t': 1,\n 'css\" type=\"te': 1,\n 'css\" type=\"tex': 1,\n 'css\" type=\"text': 1,\n 'css\" type=\"text/': 1,\n 'css\" type=\"text/c': 1,\n 'css\" type=\"text/cs': 1,\n 'css\" type=\"text/css': 1,\n 'css\" type=\"text/css\"': 1,\n 'css\" type=\"text/css\" ': 1,\n 'css\" type=\"text/css\" >': 1,\n 'ss\" type': 1,\n 'ss\" type=': 1,\n 'ss\" type=\"': 1,\n 'ss\" type=\"t': 1,\n 'ss\" type=\"te': 1,\n 'ss\" type=\"tex': 1,\n 'ss\" type=\"text': 1,\n 'ss\" type=\"text/': 1,\n 'ss\" type=\"text/c': 1,\n 'ss\" type=\"text/cs': 1,\n 'ss\" type=\"text/css': 1,\n 'ss\" type=\"text/css\"': 1,\n 'ss\" type=\"text/css\" ': 1,\n 'ss\" type=\"text/css\" >': 1,\n 's\" type=': 1,\n 's\" type=\"': 1,\n 's\" type=\"t': 1,\n 's\" type=\"te': 1,\n 's\" type=\"tex': 1,\n 's\" type=\"text': 1,\n 's\" type=\"text/': 1,\n 's\" type=\"text/c': 1,\n 's\" type=\"text/cs': 1,\n 's\" type=\"text/css': 1,\n 's\" type=\"text/css\"': 1,\n 's\" type=\"text/css\" ': 1,\n 's\" type=\"text/css\" >': 1,\n '\" type=\"': 1,\n '\" type=\"t': 1,\n '\" type=\"te': 1,\n '\" type=\"tex': 1,\n '\" type=\"text': 1,\n '\" type=\"text/': 1,\n '\" type=\"text/c': 1,\n '\" type=\"text/cs': 1,\n '\" type=\"text/css': 1,\n '\" type=\"text/css\"': 1,\n '\" type=\"text/css\" ': 1,\n '\" type=\"text/css\" >': 1,\n ' type=\"t': 1,\n ' type=\"te': 1,\n ' type=\"tex': 1,\n ' type=\"text': 1,\n ' type=\"text/': 1,\n ' type=\"text/c': 1,\n ' type=\"text/cs': 1,\n ' type=\"text/css': 1,\n ' type=\"text/css\"': 1,\n ' type=\"text/css\" ': 1,\n ' type=\"text/css\" >': 1,\n 'type=\"te': 1,\n 'type=\"tex': 1,\n 'type=\"text': 1,\n 'type=\"text/': 1,\n 'type=\"text/c': 1,\n 'type=\"text/cs': 1,\n 'type=\"text/css': 1,\n 'type=\"text/css\"': 1,\n 'type=\"text/css\" ': 1,\n 'type=\"text/css\" >': 1,\n 'ype=\"tex': 1,\n 'ype=\"text': 1,\n 'ype=\"text/': 1,\n 'ype=\"text/c': 1,\n 'ype=\"text/cs': 1,\n 'ype=\"text/css': 1,\n 'ype=\"text/css\"': 1,\n 'ype=\"text/css\" ': 1,\n 'ype=\"text/css\" >': 1,\n 'pe=\"text': 1,\n 'pe=\"text/': 1,\n 'pe=\"text/c': 1,\n 'pe=\"text/cs': 1,\n 'pe=\"text/css': 1,\n 'pe=\"text/css\"': 1,\n 'pe=\"text/css\" ': 1,\n 'pe=\"text/css\" >': 1,\n 'e=\"text/': 1,\n 'e=\"text/c': 1,\n 'e=\"text/cs': 1,\n 'e=\"text/css': 1,\n 'e=\"text/css\"': 1,\n 'e=\"text/css\" ': 1,\n 'e=\"text/css\" >': 1,\n '=\"text/c': 1,\n '=\"text/cs': 1,\n '=\"text/css': 1,\n '=\"text/css\"': 1,\n '=\"text/css\" ': 1,\n '=\"text/css\" >': 1,\n '\"text/cs': 1,\n '\"text/css': 1,\n '\"text/css\"': 1,\n '\"text/css\" ': 1,\n '\"text/css\" >': 1,\n 'text/css': 1,\n 'text/css\"': 1,\n 'text/css\" ': 1,\n 'text/css\" >': 1,\n 'ext/css\"': 1,\n 'ext/css\" ': 1,\n 'ext/css\" >': 1,\n 'xt/css\" ': 1,\n 'xt/css\" >': 1,\n 't/css\" >': 1,\n ' <script': 1,\n ' <script>': 2,\n ' <script>p': 1,\n ' <script>pa': 1,\n ' <script>par': 1,\n ' <script>pare': 1,\n ' <script>paren': 1,\n ' <script>parent': 1,\n ' <script>parent.': 1,\n ' <script>parent.t': 1,\n ' <script>parent.ti': 1,\n ' <script>parent.tim': 1,\n ' <script>parent.time': 1,\n ' <script>parent.timer': 1,\n ' <script>parent.timer_': 1,\n ' <script>parent.timer_r': 1,\n ' <script>parent.timer_re': 1,\n ' <script>parent.timer_res': 1,\n ' <script>parent.timer_rese': 1,\n ' <script>parent.timer_reset': 1,\n ' <script>parent.timer_reset ': 1,\n ' <script>parent.timer_reset =': 1,\n '<script>': 1,\n '<script>p': 1,\n '<script>pa': 1,\n '<script>par': 1,\n '<script>pare': 1,\n '<script>paren': 1,\n '<script>parent': 1,\n '<script>parent.': 1,\n '<script>parent.t': 1,\n '<script>parent.ti': 1,\n '<script>parent.tim': 1,\n '<script>parent.time': 1,\n '<script>parent.timer': 1,\n '<script>parent.timer_': 1,\n '<script>parent.timer_r': 1,\n '<script>parent.timer_re': 1,\n '<script>parent.timer_res': 1,\n '<script>parent.timer_rese': 1,\n '<script>parent.timer_reset': 1,\n '<script>parent.timer_reset ': 1,\n '<script>parent.timer_reset =': 1,\n '<script>parent.timer_reset = ': 1,\n 'script>p': 1,\n 'script>pa': 1,\n 'script>par': 1,\n 'script>pare': 1,\n 'script>paren': 1,\n 'script>parent': 1,\n 'script>parent.': 1,\n 'script>parent.t': 1,\n 'script>parent.ti': 1,\n 'script>parent.tim': 1,\n 'script>parent.time': 1,\n 'script>parent.timer': 1,\n 'script>parent.timer_': 1,\n 'script>parent.timer_r': 1,\n 'script>parent.timer_re': 1,\n 'script>parent.timer_res': 1,\n 'script>parent.timer_rese': 1,\n 'script>parent.timer_reset': 1,\n 'script>parent.timer_reset ': 1,\n 'script>parent.timer_reset =': 1,\n 'script>parent.timer_reset = ': 1,\n 'script>parent.timer_reset = 1': 1,\n 'cript>pa': 1,\n 'cript>par': 1,\n 'cript>pare': 1,\n 'cript>paren': 1,\n 'cript>parent': 1,\n 'cript>parent.': 1,\n 'cript>parent.t': 1,\n 'cript>parent.ti': 1,\n 'cript>parent.tim': 1,\n 'cript>parent.time': 1,\n 'cript>parent.timer': 1,\n 'cript>parent.timer_': 1,\n 'cript>parent.timer_r': 1,\n 'cript>parent.timer_re': 1,\n 'cript>parent.timer_res': 1,\n 'cript>parent.timer_rese': 1,\n 'cript>parent.timer_reset': 1,\n 'cript>parent.timer_reset ': 1,\n 'cript>parent.timer_reset =': 1,\n 'cript>parent.timer_reset = ': 1,\n 'cript>parent.timer_reset = 1': 1,\n 'cript>parent.timer_reset = 1;': 1,\n 'ript>par': 1,\n 'ript>pare': 1,\n 'ript>paren': 1,\n 'ript>parent': 1,\n 'ript>parent.': 1,\n 'ript>parent.t': 1,\n 'ript>parent.ti': 1,\n 'ript>parent.tim': 1,\n 'ript>parent.time': 1,\n 'ript>parent.timer': 1,\n 'ript>parent.timer_': 1,\n 'ript>parent.timer_r': 1,\n 'ript>parent.timer_re': 1,\n 'ript>parent.timer_res': 1,\n 'ript>parent.timer_rese': 1,\n 'ript>parent.timer_reset': 1,\n 'ript>parent.timer_reset ': 1,\n 'ript>parent.timer_reset =': 1,\n 'ript>parent.timer_reset = ': 1,\n 'ript>parent.timer_reset = 1': 1,\n 'ript>parent.timer_reset = 1;': 1,\n 'ript>parent.timer_reset = 1;<': 1,\n 'ipt>pare': 1,\n 'ipt>paren': 1,\n 'ipt>parent': 1,\n 'ipt>parent.': 1,\n 'ipt>parent.t': 1,\n 'ipt>parent.ti': 1,\n 'ipt>parent.tim': 1,\n 'ipt>parent.time': 1,\n 'ipt>parent.timer': 1,\n 'ipt>parent.timer_': 1,\n 'ipt>parent.timer_r': 1,\n 'ipt>parent.timer_re': 1,\n 'ipt>parent.timer_res': 1,\n 'ipt>parent.timer_rese': 1,\n 'ipt>parent.timer_reset': 1,\n 'ipt>parent.timer_reset ': 1,\n 'ipt>parent.timer_reset =': 1,\n 'ipt>parent.timer_reset = ': 1,\n 'ipt>parent.timer_reset = 1': 1,\n 'ipt>parent.timer_reset = 1;': 1,\n ...}"
      ]
     },
     "execution_count": 14,
     "metadata": {},
     "output_type": "execute_result"
    }
   ],
   "source": [
    "cnts"
   ]
  },
  {
   "cell_type": "code",
   "execution_count": 16,
   "metadata": {},
   "outputs": [],
   "source": [
    "c2 = content.split(\"\\\\r\\\\n\")"
   ]
  },
  {
   "cell_type": "code",
   "execution_count": 6,
   "metadata": {},
   "outputs": [],
   "source": [
    "import operator\n",
    "cnts2 = {k: v for k, v in cnts.items() if v > 1}\n",
    "cnts_sort = sorted(cnts2.items(), key=operator.itemgetter(1))"
   ]
  },
  {
   "cell_type": "code",
   "execution_count": 9,
   "metadata": {},
   "outputs": [
    {
     "data": {
      "text/plain": [
       "1005197"
      ]
     },
     "execution_count": 9,
     "metadata": {},
     "output_type": "execute_result"
    }
   ],
   "source": [
    "len(cnts_sort)"
   ]
  },
  {
   "cell_type": "code",
   "execution_count": 6,
   "metadata": {},
   "outputs": [],
   "source": [
    "conn.download_file(bucket_name, '00000f461abe9dfecac5558777ed3a1be4d014f57a6109a6519c73055e38b818_2053519.tar', '00000f461abe9dfecac5558777ed3a1be4d014f57a6109a6519c73055e38b818_2053519.tar')"
   ]
  }
 ],
 "metadata": {
  "kernelspec": {
   "display_name": "Python 3",
   "language": "python",
   "name": "python3"
  },
  "language_info": {
   "codemirror_mode": {
    "name": "ipython",
    "version": 3
   },
   "file_extension": ".py",
   "mimetype": "text/x-python",
   "name": "python",
   "nbconvert_exporter": "python",
   "pygments_lexer": "ipython3",
   "version": "3.6.2"
  }
 },
 "nbformat": 4,
 "nbformat_minor": 1
}
